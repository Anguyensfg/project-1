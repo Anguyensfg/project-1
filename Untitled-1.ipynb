{
 "cells": [
  {
   "cell_type": "code",
   "execution_count": 356,
   "metadata": {},
   "outputs": [],
   "source": [
    "# Dependencies\n",
    "%matplotlib inline\n",
    "import numpy as np\n",
    "import pandas as pd\n",
    "import matplotlib.pyplot as plt\n",
    "from scipy import stats\n",
    "import scipy.stats as st\n",
    "import requests\n",
    "from scipy.stats import linregress\n",
    "import seaborn as sns\n"
   ]
  },
  {
   "cell_type": "code",
   "execution_count": 357,
   "metadata": {},
   "outputs": [
    {
     "data": {
      "text/plain": [
       "Index(['Postcode', 'Bedrooms', 'RentalUnitDesc', 'VUDate', 'VTDate', 'TENDate',\n",
       "       'RUUseType', 'HousingServiceCentre', 'VUDays', 'VTDays', 'TotalVAC',\n",
       "       'LGA', 'StateElectorate'],\n",
       "      dtype='object')"
      ]
     },
     "execution_count": 357,
     "metadata": {},
     "output_type": "execute_result"
    }
   ],
   "source": [
    "# Read CSV\n",
    "df1 = pd.read_csv(\"raw_data/2017-18-vacancy.csv\")\n",
    "df2 = pd.read_csv(\"raw_data/2018-19-vacancy.csv\")\n",
    "df3 = pd.read_csv(\"raw_data/2019-20-vacancy.csv\")\n",
    "df4 = pd.read_csv(\"raw_data/2020-21-vacancy.csv\")\n",
    "\n",
    "df1.columns"
   ]
  },
  {
   "cell_type": "code",
   "execution_count": 358,
   "metadata": {},
   "outputs": [
    {
     "data": {
      "text/plain": [
       "Index(['Postcode', 'Bedrooms', 'RentalUnitDesc', 'VUDate', 'VTDate', 'TENDate',\n",
       "       'RUUseType', 'HousingServiceCentre', 'VUDays', 'VTDays', 'TotalVAC',\n",
       "       'LGA', 'StateElectorate'],\n",
       "      dtype='object')"
      ]
     },
     "execution_count": 358,
     "metadata": {},
     "output_type": "execute_result"
    }
   ],
   "source": [
    "df2.columns"
   ]
  },
  {
   "cell_type": "code",
   "execution_count": 359,
   "metadata": {},
   "outputs": [
    {
     "data": {
      "text/plain": [
       "Index(['Postcode', 'Bedrooms', 'RentalUnitDesc', 'VUDate', 'VTDate', 'TENDate',\n",
       "       'RUUseType', 'HousingServiceCentre', 'VUDays', 'VTDays', 'TotalVAC',\n",
       "       'LGA', 'StateElectorate'],\n",
       "      dtype='object')"
      ]
     },
     "execution_count": 359,
     "metadata": {},
     "output_type": "execute_result"
    }
   ],
   "source": [
    "#Fixing column names and reordering as needed\n",
    "df3 = df3.rename(columns= {'PropertyType':'RentalUnitDesc', 'TotalVacDays':'TotalVac', 'LocalGovtAuthority':'LGA'})\n",
    "neworder = ['Postcode', 'Bedrooms', 'RentalUnitDesc', 'VUDate', 'VTDate', 'TENDate',\n",
    "       'RUUseType', 'HousingServiceCentre', 'VUDays', 'VTDays', 'TotalVAC',\n",
    "       'LGA', 'StateElectorate']\n",
    "df3=df3.reindex(columns=neworder)\n",
    "df3.columns"
   ]
  },
  {
   "cell_type": "code",
   "execution_count": 360,
   "metadata": {},
   "outputs": [
    {
     "data": {
      "text/plain": [
       "Index(['Postcode', 'Bedrooms', 'RentalUnitDesc', 'VUDate', 'VTDate', 'TENDate',\n",
       "       'RUUseType', 'HousingServiceCentre', 'VUDays', 'VTDays', 'TotalVAC',\n",
       "       'LGA', 'StateElectorate'],\n",
       "      dtype='object')"
      ]
     },
     "execution_count": 360,
     "metadata": {},
     "output_type": "execute_result"
    }
   ],
   "source": [
    "#Fixing column names and reordering as needed\n",
    "df4 = df4.rename(columns= {'PropertyType':'RentalUnitDesc', 'TotalVacDays':'TotalVac', 'LocalGovtAuthority':'LGA'})\n",
    "df4=df4.reindex(columns=neworder)\n",
    "df4.columns"
   ]
  },
  {
   "cell_type": "code",
   "execution_count": 361,
   "metadata": {},
   "outputs": [
    {
     "data": {
      "text/html": [
       "<div>\n",
       "<style scoped>\n",
       "    .dataframe tbody tr th:only-of-type {\n",
       "        vertical-align: middle;\n",
       "    }\n",
       "\n",
       "    .dataframe tbody tr th {\n",
       "        vertical-align: top;\n",
       "    }\n",
       "\n",
       "    .dataframe thead th {\n",
       "        text-align: right;\n",
       "    }\n",
       "</style>\n",
       "<table border=\"1\" class=\"dataframe\">\n",
       "  <thead>\n",
       "    <tr style=\"text-align: right;\">\n",
       "      <th></th>\n",
       "      <th>Postcode</th>\n",
       "      <th>Bedrooms</th>\n",
       "      <th>RentalUnitDesc</th>\n",
       "      <th>VUDate</th>\n",
       "      <th>VTDate</th>\n",
       "      <th>TENDate</th>\n",
       "      <th>RUUseType</th>\n",
       "      <th>HousingServiceCentre</th>\n",
       "      <th>VUDays</th>\n",
       "      <th>VTDays</th>\n",
       "      <th>TotalVAC</th>\n",
       "      <th>LGA</th>\n",
       "      <th>StateElectorate</th>\n",
       "    </tr>\n",
       "  </thead>\n",
       "  <tbody>\n",
       "    <tr>\n",
       "      <th>6262</th>\n",
       "      <td>4101</td>\n",
       "      <td>1</td>\n",
       "      <td>Apartment</td>\n",
       "      <td>1/08/2020</td>\n",
       "      <td>1/09/2020</td>\n",
       "      <td>1/09/2020</td>\n",
       "      <td>Community Housing</td>\n",
       "      <td>FORTITUDE VALLEY</td>\n",
       "      <td>23</td>\n",
       "      <td>0</td>\n",
       "      <td>23</td>\n",
       "      <td>Brisbane</td>\n",
       "      <td>South Brisbane</td>\n",
       "    </tr>\n",
       "    <tr>\n",
       "      <th>6263</th>\n",
       "      <td>4034</td>\n",
       "      <td>3</td>\n",
       "      <td>Apartment</td>\n",
       "      <td>1/05/2021</td>\n",
       "      <td>1/06/2021</td>\n",
       "      <td>1/06/2021</td>\n",
       "      <td>Community Housing</td>\n",
       "      <td>CHERMSIDE</td>\n",
       "      <td>28</td>\n",
       "      <td>0</td>\n",
       "      <td>28</td>\n",
       "      <td>Brisbane</td>\n",
       "      <td>Nudgee</td>\n",
       "    </tr>\n",
       "    <tr>\n",
       "      <th>6264</th>\n",
       "      <td>4101</td>\n",
       "      <td>1</td>\n",
       "      <td>Apartment</td>\n",
       "      <td>1/07/2020</td>\n",
       "      <td>1/08/2020</td>\n",
       "      <td>1/08/2020</td>\n",
       "      <td>Community Housing</td>\n",
       "      <td>FORTITUDE VALLEY</td>\n",
       "      <td>33</td>\n",
       "      <td>0</td>\n",
       "      <td>33</td>\n",
       "      <td>Brisbane</td>\n",
       "      <td>South Brisbane</td>\n",
       "    </tr>\n",
       "    <tr>\n",
       "      <th>6265</th>\n",
       "      <td>4020</td>\n",
       "      <td>1</td>\n",
       "      <td>Apartment</td>\n",
       "      <td>1/12/2020</td>\n",
       "      <td>1/01/2021</td>\n",
       "      <td>1/02/2021</td>\n",
       "      <td>Community Housing</td>\n",
       "      <td>MORETON BAY</td>\n",
       "      <td>35</td>\n",
       "      <td>18</td>\n",
       "      <td>53</td>\n",
       "      <td>Moreton Bay</td>\n",
       "      <td>Redcliffe</td>\n",
       "    </tr>\n",
       "    <tr>\n",
       "      <th>6266</th>\n",
       "      <td>4020</td>\n",
       "      <td>1</td>\n",
       "      <td>Apartment</td>\n",
       "      <td>1/03/2021</td>\n",
       "      <td>1/04/2021</td>\n",
       "      <td>1/04/2021</td>\n",
       "      <td>Community Housing</td>\n",
       "      <td>MORETON BAY</td>\n",
       "      <td>46</td>\n",
       "      <td>0</td>\n",
       "      <td>46</td>\n",
       "      <td>Moreton Bay</td>\n",
       "      <td>Redcliffe</td>\n",
       "    </tr>\n",
       "  </tbody>\n",
       "</table>\n",
       "</div>"
      ],
      "text/plain": [
       "      Postcode  Bedrooms RentalUnitDesc     VUDate     VTDate    TENDate  \\\n",
       "6262      4101         1      Apartment  1/08/2020  1/09/2020  1/09/2020   \n",
       "6263      4034         3      Apartment  1/05/2021  1/06/2021  1/06/2021   \n",
       "6264      4101         1      Apartment  1/07/2020  1/08/2020  1/08/2020   \n",
       "6265      4020         1      Apartment  1/12/2020  1/01/2021  1/02/2021   \n",
       "6266      4020         1      Apartment  1/03/2021  1/04/2021  1/04/2021   \n",
       "\n",
       "              RUUseType HousingServiceCentre  VUDays  VTDays  TotalVAC  \\\n",
       "6262  Community Housing    FORTITUDE VALLEY       23       0        23   \n",
       "6263  Community Housing           CHERMSIDE       28       0        28   \n",
       "6264  Community Housing    FORTITUDE VALLEY       33       0        33   \n",
       "6265  Community Housing         MORETON BAY       35      18        53   \n",
       "6266  Community Housing         MORETON BAY       46       0        46   \n",
       "\n",
       "              LGA StateElectorate  \n",
       "6262     Brisbane  South Brisbane  \n",
       "6263     Brisbane          Nudgee  \n",
       "6264     Brisbane  South Brisbane  \n",
       "6265  Moreton Bay       Redcliffe  \n",
       "6266  Moreton Bay       Redcliffe  "
      ]
     },
     "execution_count": 361,
     "metadata": {},
     "output_type": "execute_result"
    }
   ],
   "source": [
    "df4.tail()"
   ]
  },
  {
   "cell_type": "code",
   "execution_count": 362,
   "metadata": {},
   "outputs": [
    {
     "data": {
      "text/plain": [
       "(28103, 13)"
      ]
     },
     "execution_count": 362,
     "metadata": {},
     "output_type": "execute_result"
    }
   ],
   "source": [
    "#Concatenating all dataframes\n",
    "df = pd.concat([df1, df2, df3, df4])\n",
    "df = df.dropna(subset=['TotalVAC'],inplace = False)\n",
    "#Dropping rows with 0 days vacant\n",
    "df = df[df.TotalVAC != 0]\n",
    "df.shape"
   ]
  },
  {
   "cell_type": "code",
   "execution_count": 363,
   "metadata": {},
   "outputs": [
    {
     "name": "stdout",
     "output_type": "stream",
     "text": [
      "28103\n",
      "28103\n"
     ]
    }
   ],
   "source": [
    "#Create two new columns for year and month\n",
    "#Convert date string to year and month\n",
    "Years = []\n",
    "Months = []\n",
    "date_splited = []\n",
    "dates = pd.Series(df['TENDate'])\n",
    "for date in dates:\n",
    "    if '/' in date:\n",
    "        date_splited = date.split('/')\n",
    "        Years.append(date_splited[2].strip())\n",
    "        Months.append(f'{date_splited[2]}-{date_splited[1]}')\n",
    "    elif '-' in date:\n",
    "        date_splited = date.split('-')\n",
    "        Years.append(f'20{date_splited[1].strip()}')\n",
    "        Months.append(date_splited[0].strip())\n",
    "    else:\n",
    "        Years.append(date)\n",
    "\n",
    "print(len(dates))\n",
    "print(len(Years))\n",
    "df['Year'] = Years\n",
    "df['Month'] = Months"
   ]
  },
  {
   "cell_type": "code",
   "execution_count": 364,
   "metadata": {},
   "outputs": [
    {
     "data": {
      "text/html": [
       "<div>\n",
       "<style scoped>\n",
       "    .dataframe tbody tr th:only-of-type {\n",
       "        vertical-align: middle;\n",
       "    }\n",
       "\n",
       "    .dataframe tbody tr th {\n",
       "        vertical-align: top;\n",
       "    }\n",
       "\n",
       "    .dataframe thead th {\n",
       "        text-align: right;\n",
       "    }\n",
       "</style>\n",
       "<table border=\"1\" class=\"dataframe\">\n",
       "  <thead>\n",
       "    <tr style=\"text-align: right;\">\n",
       "      <th></th>\n",
       "      <th>Postcode</th>\n",
       "      <th>Bedrooms</th>\n",
       "      <th>RentalUnitDesc</th>\n",
       "      <th>VUDate</th>\n",
       "      <th>VTDate</th>\n",
       "      <th>TENDate</th>\n",
       "      <th>RUUseType</th>\n",
       "      <th>HousingServiceCentre</th>\n",
       "      <th>VUDays</th>\n",
       "      <th>VTDays</th>\n",
       "      <th>TotalVAC</th>\n",
       "      <th>LGA</th>\n",
       "      <th>StateElectorate</th>\n",
       "      <th>Year</th>\n",
       "      <th>Month</th>\n",
       "    </tr>\n",
       "  </thead>\n",
       "  <tbody>\n",
       "    <tr>\n",
       "      <th>0</th>\n",
       "      <td>4032</td>\n",
       "      <td>3</td>\n",
       "      <td>DETACHED HOUSE</td>\n",
       "      <td>9/10/2017</td>\n",
       "      <td>2/11/2017</td>\n",
       "      <td>3/11/2017</td>\n",
       "      <td>Public Housing</td>\n",
       "      <td>105</td>\n",
       "      <td>24</td>\n",
       "      <td>1</td>\n",
       "      <td>25</td>\n",
       "      <td>BRISBANE</td>\n",
       "      <td>STAFFORD</td>\n",
       "      <td>2017</td>\n",
       "      <td>2017-11</td>\n",
       "    </tr>\n",
       "    <tr>\n",
       "      <th>1</th>\n",
       "      <td>4108</td>\n",
       "      <td>2</td>\n",
       "      <td>APARTMENT</td>\n",
       "      <td>3/04/2018</td>\n",
       "      <td>18/04/2018</td>\n",
       "      <td>2/05/2018</td>\n",
       "      <td>Public Housing</td>\n",
       "      <td>107</td>\n",
       "      <td>15</td>\n",
       "      <td>14</td>\n",
       "      <td>29</td>\n",
       "      <td>BRISBANE</td>\n",
       "      <td>TOOHEY</td>\n",
       "      <td>2018</td>\n",
       "      <td>2018-05</td>\n",
       "    </tr>\n",
       "    <tr>\n",
       "      <th>2</th>\n",
       "      <td>4108</td>\n",
       "      <td>2</td>\n",
       "      <td>APARTMENT</td>\n",
       "      <td>1/08/2017</td>\n",
       "      <td>11/08/2017</td>\n",
       "      <td>21/08/2017</td>\n",
       "      <td>Public Housing</td>\n",
       "      <td>107</td>\n",
       "      <td>10</td>\n",
       "      <td>10</td>\n",
       "      <td>20</td>\n",
       "      <td>BRISBANE</td>\n",
       "      <td>TOOHEY</td>\n",
       "      <td>2017</td>\n",
       "      <td>2017-08</td>\n",
       "    </tr>\n",
       "    <tr>\n",
       "      <th>3</th>\n",
       "      <td>4108</td>\n",
       "      <td>2</td>\n",
       "      <td>APARTMENT</td>\n",
       "      <td>1/03/2018</td>\n",
       "      <td>23/03/2018</td>\n",
       "      <td>28/03/2018</td>\n",
       "      <td>Public Housing</td>\n",
       "      <td>107</td>\n",
       "      <td>22</td>\n",
       "      <td>5</td>\n",
       "      <td>27</td>\n",
       "      <td>BRISBANE</td>\n",
       "      <td>TOOHEY</td>\n",
       "      <td>2018</td>\n",
       "      <td>2018-03</td>\n",
       "    </tr>\n",
       "    <tr>\n",
       "      <th>4</th>\n",
       "      <td>4108</td>\n",
       "      <td>2</td>\n",
       "      <td>APARTMENT</td>\n",
       "      <td>15/11/2017</td>\n",
       "      <td>1/12/2017</td>\n",
       "      <td>2/01/2018</td>\n",
       "      <td>Public Housing</td>\n",
       "      <td>107</td>\n",
       "      <td>16</td>\n",
       "      <td>32</td>\n",
       "      <td>48</td>\n",
       "      <td>BRISBANE</td>\n",
       "      <td>TOOHEY</td>\n",
       "      <td>2018</td>\n",
       "      <td>2018-01</td>\n",
       "    </tr>\n",
       "  </tbody>\n",
       "</table>\n",
       "</div>"
      ],
      "text/plain": [
       "   Postcode  Bedrooms  RentalUnitDesc      VUDate      VTDate     TENDate  \\\n",
       "0      4032         3  DETACHED HOUSE   9/10/2017   2/11/2017   3/11/2017   \n",
       "1      4108         2       APARTMENT   3/04/2018  18/04/2018   2/05/2018   \n",
       "2      4108         2       APARTMENT   1/08/2017  11/08/2017  21/08/2017   \n",
       "3      4108         2       APARTMENT   1/03/2018  23/03/2018  28/03/2018   \n",
       "4      4108         2       APARTMENT  15/11/2017   1/12/2017   2/01/2018   \n",
       "\n",
       "        RUUseType HousingServiceCentre  VUDays  VTDays  TotalVAC       LGA  \\\n",
       "0  Public Housing                  105      24       1        25  BRISBANE   \n",
       "1  Public Housing                  107      15      14        29  BRISBANE   \n",
       "2  Public Housing                  107      10      10        20  BRISBANE   \n",
       "3  Public Housing                  107      22       5        27  BRISBANE   \n",
       "4  Public Housing                  107      16      32        48  BRISBANE   \n",
       "\n",
       "  StateElectorate  Year    Month  \n",
       "0        STAFFORD  2017  2017-11  \n",
       "1          TOOHEY  2018  2018-05  \n",
       "2          TOOHEY  2017  2017-08  \n",
       "3          TOOHEY  2018  2018-03  \n",
       "4          TOOHEY  2018  2018-01  "
      ]
     },
     "execution_count": 364,
     "metadata": {},
     "output_type": "execute_result"
    }
   ],
   "source": [
    "df.head()"
   ]
  },
  {
   "cell_type": "code",
   "execution_count": 365,
   "metadata": {},
   "outputs": [
    {
     "data": {
      "text/html": [
       "<div>\n",
       "<style scoped>\n",
       "    .dataframe tbody tr th:only-of-type {\n",
       "        vertical-align: middle;\n",
       "    }\n",
       "\n",
       "    .dataframe tbody tr th {\n",
       "        vertical-align: top;\n",
       "    }\n",
       "\n",
       "    .dataframe thead th {\n",
       "        text-align: right;\n",
       "    }\n",
       "</style>\n",
       "<table border=\"1\" class=\"dataframe\">\n",
       "  <thead>\n",
       "    <tr style=\"text-align: right;\">\n",
       "      <th></th>\n",
       "      <th>Postcode</th>\n",
       "      <th>Bedrooms</th>\n",
       "      <th>RentalUnitDesc</th>\n",
       "      <th>VUDate</th>\n",
       "      <th>VTDate</th>\n",
       "      <th>TENDate</th>\n",
       "      <th>RUUseType</th>\n",
       "      <th>HousingServiceCentre</th>\n",
       "      <th>VUDays</th>\n",
       "      <th>VTDays</th>\n",
       "      <th>TotalVAC</th>\n",
       "      <th>LGA</th>\n",
       "      <th>StateElectorate</th>\n",
       "      <th>Year</th>\n",
       "      <th>Month</th>\n",
       "    </tr>\n",
       "  </thead>\n",
       "  <tbody>\n",
       "    <tr>\n",
       "      <th>0</th>\n",
       "      <td>4032</td>\n",
       "      <td>3</td>\n",
       "      <td>DETACHED HOUSE</td>\n",
       "      <td>9/10/2017</td>\n",
       "      <td>2/11/2017</td>\n",
       "      <td>3/11/2017</td>\n",
       "      <td>Public Housing</td>\n",
       "      <td>105</td>\n",
       "      <td>24</td>\n",
       "      <td>1</td>\n",
       "      <td>25</td>\n",
       "      <td>BRISBANE</td>\n",
       "      <td>STAFFORD</td>\n",
       "      <td>2017</td>\n",
       "      <td>2017-11</td>\n",
       "    </tr>\n",
       "    <tr>\n",
       "      <th>1</th>\n",
       "      <td>4108</td>\n",
       "      <td>2</td>\n",
       "      <td>APARTMENT</td>\n",
       "      <td>3/04/2018</td>\n",
       "      <td>18/04/2018</td>\n",
       "      <td>2/05/2018</td>\n",
       "      <td>Public Housing</td>\n",
       "      <td>107</td>\n",
       "      <td>15</td>\n",
       "      <td>14</td>\n",
       "      <td>29</td>\n",
       "      <td>BRISBANE</td>\n",
       "      <td>TOOHEY</td>\n",
       "      <td>2018</td>\n",
       "      <td>2018-05</td>\n",
       "    </tr>\n",
       "    <tr>\n",
       "      <th>2</th>\n",
       "      <td>4108</td>\n",
       "      <td>2</td>\n",
       "      <td>APARTMENT</td>\n",
       "      <td>1/08/2017</td>\n",
       "      <td>11/08/2017</td>\n",
       "      <td>21/08/2017</td>\n",
       "      <td>Public Housing</td>\n",
       "      <td>107</td>\n",
       "      <td>10</td>\n",
       "      <td>10</td>\n",
       "      <td>20</td>\n",
       "      <td>BRISBANE</td>\n",
       "      <td>TOOHEY</td>\n",
       "      <td>2017</td>\n",
       "      <td>2017-08</td>\n",
       "    </tr>\n",
       "    <tr>\n",
       "      <th>3</th>\n",
       "      <td>4108</td>\n",
       "      <td>2</td>\n",
       "      <td>APARTMENT</td>\n",
       "      <td>1/03/2018</td>\n",
       "      <td>23/03/2018</td>\n",
       "      <td>28/03/2018</td>\n",
       "      <td>Public Housing</td>\n",
       "      <td>107</td>\n",
       "      <td>22</td>\n",
       "      <td>5</td>\n",
       "      <td>27</td>\n",
       "      <td>BRISBANE</td>\n",
       "      <td>TOOHEY</td>\n",
       "      <td>2018</td>\n",
       "      <td>2018-03</td>\n",
       "    </tr>\n",
       "    <tr>\n",
       "      <th>4</th>\n",
       "      <td>4108</td>\n",
       "      <td>2</td>\n",
       "      <td>APARTMENT</td>\n",
       "      <td>15/11/2017</td>\n",
       "      <td>1/12/2017</td>\n",
       "      <td>2/01/2018</td>\n",
       "      <td>Public Housing</td>\n",
       "      <td>107</td>\n",
       "      <td>16</td>\n",
       "      <td>32</td>\n",
       "      <td>48</td>\n",
       "      <td>BRISBANE</td>\n",
       "      <td>TOOHEY</td>\n",
       "      <td>2018</td>\n",
       "      <td>2018-01</td>\n",
       "    </tr>\n",
       "  </tbody>\n",
       "</table>\n",
       "</div>"
      ],
      "text/plain": [
       "   Postcode  Bedrooms  RentalUnitDesc      VUDate      VTDate     TENDate  \\\n",
       "0      4032         3  DETACHED HOUSE   9/10/2017   2/11/2017   3/11/2017   \n",
       "1      4108         2       APARTMENT   3/04/2018  18/04/2018   2/05/2018   \n",
       "2      4108         2       APARTMENT   1/08/2017  11/08/2017  21/08/2017   \n",
       "3      4108         2       APARTMENT   1/03/2018  23/03/2018  28/03/2018   \n",
       "4      4108         2       APARTMENT  15/11/2017   1/12/2017   2/01/2018   \n",
       "\n",
       "        RUUseType HousingServiceCentre  VUDays  VTDays  TotalVAC       LGA  \\\n",
       "0  Public Housing                  105      24       1        25  BRISBANE   \n",
       "1  Public Housing                  107      15      14        29  BRISBANE   \n",
       "2  Public Housing                  107      10      10        20  BRISBANE   \n",
       "3  Public Housing                  107      22       5        27  BRISBANE   \n",
       "4  Public Housing                  107      16      32        48  BRISBANE   \n",
       "\n",
       "  StateElectorate  Year    Month  \n",
       "0        STAFFORD  2017  2017-11  \n",
       "1          TOOHEY  2018  2018-05  \n",
       "2          TOOHEY  2017  2017-08  \n",
       "3          TOOHEY  2018  2018-03  \n",
       "4          TOOHEY  2018  2018-01  "
      ]
     },
     "execution_count": 365,
     "metadata": {},
     "output_type": "execute_result"
    }
   ],
   "source": [
    "#Write to CSV\n",
    "df.to_csv(\"all_vacancy_data.csv\")\n",
    "df.head()"
   ]
  },
  {
   "cell_type": "code",
   "execution_count": 366,
   "metadata": {},
   "outputs": [
    {
     "data": {
      "text/html": [
       "<div>\n",
       "<style scoped>\n",
       "    .dataframe tbody tr th:only-of-type {\n",
       "        vertical-align: middle;\n",
       "    }\n",
       "\n",
       "    .dataframe tbody tr th {\n",
       "        vertical-align: top;\n",
       "    }\n",
       "\n",
       "    .dataframe thead th {\n",
       "        text-align: right;\n",
       "    }\n",
       "</style>\n",
       "<table border=\"1\" class=\"dataframe\">\n",
       "  <thead>\n",
       "    <tr style=\"text-align: right;\">\n",
       "      <th></th>\n",
       "      <th>VUDays</th>\n",
       "      <th>VTDays</th>\n",
       "      <th>TotalVAC</th>\n",
       "      <th>LGA</th>\n",
       "    </tr>\n",
       "    <tr>\n",
       "      <th>Year</th>\n",
       "      <th></th>\n",
       "      <th></th>\n",
       "      <th></th>\n",
       "      <th></th>\n",
       "    </tr>\n",
       "  </thead>\n",
       "  <tbody>\n",
       "    <tr>\n",
       "      <th>2017</th>\n",
       "      <td>13.441606</td>\n",
       "      <td>16.868052</td>\n",
       "      <td>30.309657</td>\n",
       "      <td>3562</td>\n",
       "    </tr>\n",
       "    <tr>\n",
       "      <th>2018</th>\n",
       "      <td>17.285539</td>\n",
       "      <td>29.051966</td>\n",
       "      <td>46.337505</td>\n",
       "      <td>7351</td>\n",
       "    </tr>\n",
       "    <tr>\n",
       "      <th>2019</th>\n",
       "      <td>21.893207</td>\n",
       "      <td>34.134239</td>\n",
       "      <td>56.027446</td>\n",
       "      <td>7360</td>\n",
       "    </tr>\n",
       "    <tr>\n",
       "      <th>2020</th>\n",
       "      <td>18.509575</td>\n",
       "      <td>24.308855</td>\n",
       "      <td>42.818431</td>\n",
       "      <td>6945</td>\n",
       "    </tr>\n",
       "    <tr>\n",
       "      <th>2021</th>\n",
       "      <td>12.869671</td>\n",
       "      <td>15.323397</td>\n",
       "      <td>28.193068</td>\n",
       "      <td>2885</td>\n",
       "    </tr>\n",
       "  </tbody>\n",
       "</table>\n",
       "</div>"
      ],
      "text/plain": [
       "         VUDays     VTDays   TotalVAC   LGA\n",
       "Year                                       \n",
       "2017  13.441606  16.868052  30.309657  3562\n",
       "2018  17.285539  29.051966  46.337505  7351\n",
       "2019  21.893207  34.134239  56.027446  7360\n",
       "2020  18.509575  24.308855  42.818431  6945\n",
       "2021  12.869671  15.323397  28.193068  2885"
      ]
     },
     "execution_count": 366,
     "metadata": {},
     "output_type": "execute_result"
    }
   ],
   "source": [
    "#Group by year\n",
    "year_groupby = df.groupby(by='Year',as_index=True).agg({'VUDays':'mean', 'VTDays':'mean', 'TotalVAC':'mean', 'LGA': 'count'})#[['VUDays', 'VTDays', 'TotalVAC']].mean()\n",
    "year_groupby.head(30)"
   ]
  },
  {
   "cell_type": "code",
   "execution_count": 367,
   "metadata": {},
   "outputs": [
    {
     "data": {
      "image/png": "[encoded data removed]",
      "text/plain": [
       "<Figure size 432x288 with 1 Axes>"
      ]
     },
     "metadata": {
      "needs_background": "light"
     },
     "output_type": "display_data"
    }
   ],
   "source": [
    "#Plotting\n",
    "plt.bar(year_groupby.index, year_groupby['TotalVAC'])\n",
    "plt.xlabel('Year')\n",
    "plt.ylabel('Average Vacancy Days')\n",
    "plt.title('Average Vacancy Days by Year')\n",
    "plt.show()"
   ]
  },
  {
   "cell_type": "code",
   "execution_count": null,
   "metadata": {},
   "outputs": [],
   "source": [
    "\n"
   ]
  },
  {
   "cell_type": "code",
   "execution_count": 368,
   "metadata": {},
   "outputs": [
    {
     "data": {
      "image/png": "[encoded data removed]",
      "text/plain": [
       "<Figure size 432x288 with 1 Axes>"
      ]
     },
     "metadata": {
      "needs_background": "light"
     },
     "output_type": "display_data"
    }
   ],
   "source": [
    "#Plotting\n",
    "x_axis=np.arange(len(year_groupby.index))\n",
    "plt.bar(x_axis - 0.2, year_groupby['VUDays'], 0.4, label = 'Untenable')\n",
    "plt.bar(x_axis + 0.2, year_groupby['VTDays'], 0.4, label = 'Tenable')\n",
    "plt.xticks(x_axis, year_groupby.index)\n",
    "plt.xlabel('Year')\n",
    "plt.ylabel('Average Vacancy Days')\n",
    "plt.title('Untenable and Tenable Vacancy Days by Year')\n",
    "plt.legend()\n",
    "plt.show()\n"
   ]
  },
  {
   "cell_type": "code",
   "execution_count": 369,
   "metadata": {},
   "outputs": [
    {
     "data": {
      "text/html": [
       "<div>\n",
       "<style scoped>\n",
       "    .dataframe tbody tr th:only-of-type {\n",
       "        vertical-align: middle;\n",
       "    }\n",
       "\n",
       "    .dataframe tbody tr th {\n",
       "        vertical-align: top;\n",
       "    }\n",
       "\n",
       "    .dataframe thead th {\n",
       "        text-align: right;\n",
       "    }\n",
       "</style>\n",
       "<table border=\"1\" class=\"dataframe\">\n",
       "  <thead>\n",
       "    <tr style=\"text-align: right;\">\n",
       "      <th></th>\n",
       "      <th>Month</th>\n",
       "      <th>VUDays</th>\n",
       "      <th>VTDays</th>\n",
       "      <th>TotalVAC</th>\n",
       "      <th>Vacancy Count</th>\n",
       "    </tr>\n",
       "  </thead>\n",
       "  <tbody>\n",
       "    <tr>\n",
       "      <th>0</th>\n",
       "      <td>2017-07</td>\n",
       "      <td>11.617089</td>\n",
       "      <td>15.492089</td>\n",
       "      <td>27.109177</td>\n",
       "      <td>632</td>\n",
       "    </tr>\n",
       "    <tr>\n",
       "      <th>1</th>\n",
       "      <td>2017-08</td>\n",
       "      <td>13.576490</td>\n",
       "      <td>14.988728</td>\n",
       "      <td>28.565217</td>\n",
       "      <td>621</td>\n",
       "    </tr>\n",
       "    <tr>\n",
       "      <th>2</th>\n",
       "      <td>2017-09</td>\n",
       "      <td>14.102142</td>\n",
       "      <td>12.237232</td>\n",
       "      <td>26.339374</td>\n",
       "      <td>607</td>\n",
       "    </tr>\n",
       "    <tr>\n",
       "      <th>3</th>\n",
       "      <td>2017-10</td>\n",
       "      <td>14.374723</td>\n",
       "      <td>14.534368</td>\n",
       "      <td>28.909091</td>\n",
       "      <td>451</td>\n",
       "    </tr>\n",
       "    <tr>\n",
       "      <th>4</th>\n",
       "      <td>2017-11</td>\n",
       "      <td>13.397882</td>\n",
       "      <td>12.161876</td>\n",
       "      <td>25.559758</td>\n",
       "      <td>661</td>\n",
       "    </tr>\n",
       "  </tbody>\n",
       "</table>\n",
       "</div>"
      ],
      "text/plain": [
       "     Month     VUDays     VTDays   TotalVAC  Vacancy Count\n",
       "0  2017-07  11.617089  15.492089  27.109177            632\n",
       "1  2017-08  13.576490  14.988728  28.565217            621\n",
       "2  2017-09  14.102142  12.237232  26.339374            607\n",
       "3  2017-10  14.374723  14.534368  28.909091            451\n",
       "4  2017-11  13.397882  12.161876  25.559758            661"
      ]
     },
     "execution_count": 369,
     "metadata": {},
     "output_type": "execute_result"
    }
   ],
   "source": [
    "#Group by month\n",
    "months_groupby = df.groupby(by='Month',as_index=False).agg({'VUDays':'mean', 'VTDays':'mean', 'TotalVAC':'mean', 'LGA': 'count'})#[['VUDays', 'VTDays', 'TotalVAC']].mean()\n",
    "months_groupby = months_groupby.rename(columns= {'LGA':'Vacancy Count'})\n",
    "months_groupby.head()"
   ]
  },
  {
   "cell_type": "code",
   "execution_count": 370,
   "metadata": {},
   "outputs": [
    {
     "data": {
      "text/plain": [
       "pandas.core.series.Series"
      ]
     },
     "execution_count": 370,
     "metadata": {},
     "output_type": "execute_result"
    }
   ],
   "source": [
    "type(months_groupby['Vacancy Count'])"
   ]
  },
  {
   "cell_type": "code",
   "execution_count": 371,
   "metadata": {},
   "outputs": [
    {
     "data": {
      "image/png": "[encoded data removed]",
      "text/plain": [
       "<Figure size 1440x720 with 1 Axes>"
      ]
     },
     "metadata": {
      "needs_background": "light"
     },
     "output_type": "display_data"
    }
   ],
   "source": [
    "#inear regression\n",
    "x_values = months_groupby.index\n",
    "y_values = months_groupby['Vacancy Count'].astype(float)\n",
    "(slope, intercept, rvalue, pvalue, stderr) = linregress(x_values, y_values)\n",
    "regress_values = x_values * slope + intercept\n",
    "line_eq = \"y = \" + str(round(slope,2)) + \"x + \" + str(round(intercept,2))\n",
    "plt.figure(figsize=(20,10))\n",
    "plt.scatter(months_groupby['Month'],y_values)\n",
    "plt.plot(x_values,regress_values,\"r-\")\n",
    "plt.annotate(line_eq,(40,40),fontsize=15,color=\"red\")\n",
    "\n",
    "plt.xlabel('Year-Month')\n",
    "plt.ylabel('Vacancy Count')\n",
    "plt.title('Vacancy Count by Year-Month')\n",
    "plt.gcf().autofmt_xdate()\n",
    "plt.show()\n"
   ]
  },
  {
   "cell_type": "code",
   "execution_count": 372,
   "metadata": {},
   "outputs": [
    {
     "data": {
      "text/plain": [
       "Bedrooms\n",
       "1    40.850624\n",
       "2    46.886422\n",
       "3    45.231746\n",
       "4    42.663354\n",
       "5    83.305882\n",
       "6    23.000000\n",
       "7    14.000000\n",
       "Name: TotalVAC, dtype: float64"
      ]
     },
     "execution_count": 372,
     "metadata": {},
     "output_type": "execute_result"
    }
   ],
   "source": [
    "#Group by bedroom\n",
    "rooms_groupby = df.groupby(by='Bedrooms',as_index=True)['TotalVAC'].mean()\n",
    "rooms_groupby"
   ]
  },
  {
   "cell_type": "code",
   "execution_count": 373,
   "metadata": {},
   "outputs": [
    {
     "data": {
      "image/png": "[encoded data removed]",
      "text/plain": [
       "<Figure size 432x288 with 1 Axes>"
      ]
     },
     "metadata": {
      "needs_background": "light"
     },
     "output_type": "display_data"
    }
   ],
   "source": [
    "#Plotting\n",
    "plt.bar(rooms_groupby.index, rooms_groupby.values)\n",
    "plt.xlabel('Bedrooms')\n",
    "plt.ylabel('Average Vacancy Days')\n",
    "plt.title('Average Vacancy Days by Bedrooms')\n",
    "plt.show()"
   ]
  },
  {
   "cell_type": "code",
   "execution_count": 376,
   "metadata": {},
   "outputs": [
    {
     "data": {
      "text/html": [
       "<div>\n",
       "<style scoped>\n",
       "    .dataframe tbody tr th:only-of-type {\n",
       "        vertical-align: middle;\n",
       "    }\n",
       "\n",
       "    .dataframe tbody tr th {\n",
       "        vertical-align: top;\n",
       "    }\n",
       "\n",
       "    .dataframe thead th {\n",
       "        text-align: right;\n",
       "    }\n",
       "</style>\n",
       "<table border=\"1\" class=\"dataframe\">\n",
       "  <thead>\n",
       "    <tr style=\"text-align: right;\">\n",
       "      <th></th>\n",
       "      <th>Postcode</th>\n",
       "      <th>Bedrooms</th>\n",
       "      <th>RentalUnitDesc</th>\n",
       "      <th>VUDate</th>\n",
       "      <th>VTDate</th>\n",
       "      <th>TENDate</th>\n",
       "      <th>RUUseType</th>\n",
       "      <th>HousingServiceCentre</th>\n",
       "      <th>VUDays</th>\n",
       "      <th>VTDays</th>\n",
       "      <th>TotalVAC</th>\n",
       "      <th>LGA</th>\n",
       "      <th>StateElectorate</th>\n",
       "      <th>Year</th>\n",
       "      <th>Month</th>\n",
       "    </tr>\n",
       "  </thead>\n",
       "  <tbody>\n",
       "    <tr>\n",
       "      <th>98</th>\n",
       "      <td>4161</td>\n",
       "      <td>5</td>\n",
       "      <td>DETACHED HOUSE</td>\n",
       "      <td>21/05/2018</td>\n",
       "      <td>21/06/2018</td>\n",
       "      <td>21/06/2018</td>\n",
       "      <td>Public Housing</td>\n",
       "      <td>106</td>\n",
       "      <td>31</td>\n",
       "      <td>0</td>\n",
       "      <td>31</td>\n",
       "      <td>REDLAND</td>\n",
       "      <td>CAPALABA</td>\n",
       "      <td>2018</td>\n",
       "      <td>2018-06</td>\n",
       "    </tr>\n",
       "    <tr>\n",
       "      <th>133</th>\n",
       "      <td>4807</td>\n",
       "      <td>5</td>\n",
       "      <td>DETACHED HOUSE</td>\n",
       "      <td>12/10/2017</td>\n",
       "      <td>24/10/2017</td>\n",
       "      <td>2/11/2017</td>\n",
       "      <td>Public Housing</td>\n",
       "      <td>201</td>\n",
       "      <td>12</td>\n",
       "      <td>9</td>\n",
       "      <td>21</td>\n",
       "      <td>BURDEKIN</td>\n",
       "      <td>BURDEKIN</td>\n",
       "      <td>2017</td>\n",
       "      <td>2017-11</td>\n",
       "    </tr>\n",
       "    <tr>\n",
       "      <th>620</th>\n",
       "      <td>4110</td>\n",
       "      <td>5</td>\n",
       "      <td>DETACHED HOUSE</td>\n",
       "      <td>30/05/2017</td>\n",
       "      <td>5/07/2017</td>\n",
       "      <td>5/07/2017</td>\n",
       "      <td>Public Housing</td>\n",
       "      <td>104</td>\n",
       "      <td>36</td>\n",
       "      <td>0</td>\n",
       "      <td>36</td>\n",
       "      <td>BRISBANE</td>\n",
       "      <td>ALGESTER</td>\n",
       "      <td>2017</td>\n",
       "      <td>2017-07</td>\n",
       "    </tr>\n",
       "    <tr>\n",
       "      <th>730</th>\n",
       "      <td>4053</td>\n",
       "      <td>5</td>\n",
       "      <td>DETACHED HOUSE</td>\n",
       "      <td>6/06/2017</td>\n",
       "      <td>13/07/2017</td>\n",
       "      <td>25/07/2017</td>\n",
       "      <td>Public Housing</td>\n",
       "      <td>105</td>\n",
       "      <td>37</td>\n",
       "      <td>12</td>\n",
       "      <td>49</td>\n",
       "      <td>BRISBANE</td>\n",
       "      <td>STAFFORD</td>\n",
       "      <td>2017</td>\n",
       "      <td>2017-07</td>\n",
       "    </tr>\n",
       "    <tr>\n",
       "      <th>829</th>\n",
       "      <td>4109</td>\n",
       "      <td>5</td>\n",
       "      <td>DETACHED HOUSE</td>\n",
       "      <td>12/02/2018</td>\n",
       "      <td>5/03/2018</td>\n",
       "      <td>29/03/2018</td>\n",
       "      <td>Public Housing</td>\n",
       "      <td>107</td>\n",
       "      <td>21</td>\n",
       "      <td>24</td>\n",
       "      <td>45</td>\n",
       "      <td>BRISBANE</td>\n",
       "      <td>STRETTON</td>\n",
       "      <td>2018</td>\n",
       "      <td>2018-03</td>\n",
       "    </tr>\n",
       "  </tbody>\n",
       "</table>\n",
       "</div>"
      ],
      "text/plain": [
       "     Postcode  Bedrooms  RentalUnitDesc      VUDate      VTDate     TENDate  \\\n",
       "98       4161         5  DETACHED HOUSE  21/05/2018  21/06/2018  21/06/2018   \n",
       "133      4807         5  DETACHED HOUSE  12/10/2017  24/10/2017   2/11/2017   \n",
       "620      4110         5  DETACHED HOUSE  30/05/2017   5/07/2017   5/07/2017   \n",
       "730      4053         5  DETACHED HOUSE   6/06/2017  13/07/2017  25/07/2017   \n",
       "829      4109         5  DETACHED HOUSE  12/02/2018   5/03/2018  29/03/2018   \n",
       "\n",
       "          RUUseType HousingServiceCentre  VUDays  VTDays  TotalVAC       LGA  \\\n",
       "98   Public Housing                  106      31       0        31   REDLAND   \n",
       "133  Public Housing                  201      12       9        21  BURDEKIN   \n",
       "620  Public Housing                  104      36       0        36  BRISBANE   \n",
       "730  Public Housing                  105      37      12        49  BRISBANE   \n",
       "829  Public Housing                  107      21      24        45  BRISBANE   \n",
       "\n",
       "    StateElectorate  Year    Month  \n",
       "98         CAPALABA  2018  2018-06  \n",
       "133        BURDEKIN  2017  2017-11  \n",
       "620        ALGESTER  2017  2017-07  \n",
       "730        STAFFORD  2017  2017-07  \n",
       "829        STRETTON  2018  2018-03  "
      ]
     },
     "execution_count": 376,
     "metadata": {},
     "output_type": "execute_result"
    }
   ],
   "source": [
    "one_bed_groupby = df[df['Bedrooms'] == 1]\n",
    "two_bed_groupby = df[df['Bedrooms'] == 2]\n",
    "three_bed_groupby = df[df['Bedrooms'] == 3]\n",
    "four_bed_groupby = df[df['Bedrooms'] == 4]\n",
    "five_bed_groupby = df[df['Bedrooms'] == 5]\n",
    "six_bed_groupby = df[df['Bedrooms'] == 6]\n",
    "seven_bed_groupby = df[df['Bedrooms'] == 7]\n",
    "\n",
    "one_bed_vdays = one_bed_groupby['TotalVAC'].astype(float)\n",
    "two_bed_vdays = two_bed_groupby['TotalVAC']\n",
    "three_bed_vdays = three_bed_groupby['TotalVAC']\n",
    "four_bed_vdays = four_bed_groupby['TotalVAC']\n",
    "five_bed_vdays = five_bed_groupby['TotalVAC']\n",
    "six_bed_vdays = six_bed_groupby['TotalVAC']\n",
    "seven_bed_vdays = seven_bed_groupby['TotalVAC']\n",
    "\n",
    "five_bed_groupby.head()\n",
    "\n"
   ]
  },
  {
   "cell_type": "code",
   "execution_count": 382,
   "metadata": {},
   "outputs": [
    {
     "name": "stdout",
     "output_type": "stream",
     "text": [
      "Potential outlier are: \n",
      "      Postcode  Bedrooms  RentalUnitDesc      VUDate      VTDate     TENDate  \\\n",
      "962       4012         5  DETACHED HOUSE  10/11/2017   1/02/2018   7/02/2018   \n",
      "5452      4131         5  DETACHED HOUSE   5/10/2018   5/10/2018   1/02/2019   \n",
      "5866      4570         5  DETACHED HOUSE  12/12/2017  20/12/2017  25/09/2018   \n",
      "6773      4165         5  DETACHED HOUSE  12/09/2018  20/09/2018  14/01/2019   \n",
      "6859      4361         5  DETACHED HOUSE  13/11/1998  13/09/2002  28/02/2019   \n",
      "7476      4868         5  DETACHED HOUSE  18/01/2019  11/03/2019   1/05/2019   \n",
      "4830      4868         5  Detached House   1/06/2019   1/09/2019   1/09/2019   \n",
      "4989      4350         5  Detached House   1/10/2019   1/12/2019   1/01/2020   \n",
      "5769      4854         5  Detached House   1/01/2020   1/01/2020   1/04/2020   \n",
      "6370      4829         5  Dual Occupancy   1/01/2018   1/07/2018   1/08/2019   \n",
      "7031      4873         5   Cluster House   1/07/2019   1/09/2019   1/06/2020   \n",
      "7131      4650         5  Detached House   1/09/2019   1/09/2019   1/02/2020   \n",
      "7237      4818         5  Detached House   1/11/2019   1/12/2019   1/02/2020   \n",
      "7327      4740         5  Detached House   1/12/2019   1/06/2020   1/06/2020   \n",
      "7328      4740         5  Detached House   1/12/2019   1/06/2020   1/06/2020   \n",
      "4771      4817         5  Detached House   1/01/2020   1/06/2020   1/07/2020   \n",
      "\n",
      "                                          RUUseType  \\\n",
      "962                                  Public Housing   \n",
      "5452                                            DAS   \n",
      "5866                              Community Housing   \n",
      "6773                              Community Housing   \n",
      "6859                              Community Housing   \n",
      "7476                              Community Housing   \n",
      "4830                              Community Housing   \n",
      "4989                                 Public Housing   \n",
      "5769                                 Public Housing   \n",
      "6370  Aboriginal and Torres Strait Islander Housing   \n",
      "7031  Aboriginal and Torres Strait Islander Housing   \n",
      "7131                              Community Housing   \n",
      "7237                                 Public Housing   \n",
      "7327                                 Public Housing   \n",
      "7328                                 Public Housing   \n",
      "4771                                 Public Housing   \n",
      "\n",
      "              HousingServiceCentre  VUDays  VTDays  TotalVAC              LGA  \\\n",
      "962                            105      83       6        89         BRISBANE   \n",
      "5452                           101       0     119       119            LOGAN   \n",
      "5866                           205       8     279       287           GYMPIE   \n",
      "6773                           106       8     116       124          REDLAND   \n",
      "6859                           207    1400    6012      7412        TOOWOOMBA   \n",
      "7476                           202      52      51       103           CAIRNS   \n",
      "4830                    CAIRNS HSC      71      23        94           Cairns   \n",
      "4989  TOOWOOMBA AND SOUTH WEST HSC      77      37       114        Toowoomba   \n",
      "5769                    CAIRNS HSC      23      71        94  Cassowary Coast   \n",
      "6370                 MOUNT ISA HSC     166     393       559           Boulia   \n",
      "7031                    CAIRNS HSC      35     291       326          Douglas   \n",
      "7131               MARYBOROUGH HSC       0     141       141     Fraser Coast   \n",
      "7237                TOWNSVILLE HSC      29      66        95       Townsville   \n",
      "7327                    MACKAY HSC     183       3       186           Mackay   \n",
      "7328                    MACKAY HSC     183       5       188           Mackay   \n",
      "4771                   TOWNSVILLE      146      18       164       Townsville   \n",
      "\n",
      "      StateElectorate  Year    Month  \n",
      "962            NUDGEE  2018  2018-02  \n",
      "5452        WATERFORD  2019  2019-02  \n",
      "5866           GYMPIE  2018  2018-09  \n",
      "6773         REDLANDS  2019  2019-01  \n",
      "6859        CONDAMINE  2019  2019-02  \n",
      "7476         MULGRAVE  2019  2019-05  \n",
      "4830         Mulgrave  2019  2019-09  \n",
      "4989  Toowoomba North  2020  2020-01  \n",
      "5769             Hill  2020  2020-04  \n",
      "6370          Gregory  2019  2019-08  \n",
      "7031             Cook  2020  2020-06  \n",
      "7131      Maryborough  2020  2020-02  \n",
      "7237     Hinchinbrook  2020  2020-02  \n",
      "7327           Mackay  2020  2020-06  \n",
      "7328       Whitsunday  2020  2020-06  \n",
      "4771       Thuringowa  2020  2020-07  \n",
      "--------------------------------------------------\n"
     ]
    }
   ],
   "source": [
    "# Calculate the IQR and \n",
    "# quantitatively determine if there are any potential outliers. \n",
    "def quartiles(df):\n",
    "    quartiles = df['TotalVAC'].quantile([0.25,0.5,0.75])\n",
    "    lowerq = quartiles[0.25]\n",
    "    upperq = quartiles[0.75]\n",
    "    iqr = upperq-lowerq\n",
    "    lower_bound = lowerq - (1.5*iqr)\n",
    "    upper_bound = upperq + (1.5*iqr)\n",
    "    # Determine outliers using upper and lower bounds\n",
    "    outliers = df.loc[(df['TotalVAC']< lower_bound) | (df['TotalVAC']> upper_bound)]\n",
    "    if len(outliers) > 0:\n",
    "        print(f'Potential outlier are: \\n{outliers}')\n",
    "    print(\"--------------------------------------------------\")\n",
    "    return\n",
    "\n",
    "quartiles(five_bed_groupby)"
   ]
  },
  {
   "cell_type": "code",
   "execution_count": 383,
   "metadata": {},
   "outputs": [
    {
     "data": {
      "image/png": "[encoded data removed]",
      "text/plain": [
       "<Figure size 432x288 with 1 Axes>"
      ]
     },
     "metadata": {
      "needs_background": "light"
     },
     "output_type": "display_data"
    }
   ],
   "source": [
    "data_to_plot = [one_bed_vdays, two_bed_vdays, three_bed_vdays, four_bed_vdays, five_bed_vdays, six_bed_vdays, seven_bed_vdays]\n",
    "beds = ['1 Bed', '2 Bed', '3 Bed', '4 Bed', '5 Bed', '6 Bed', '7 Bed']\n",
    "#Variable to change the colour of the potential outlier in boxplot\n",
    "red_diamond = dict(markerfacecolor='r', marker='D')\n",
    "# Generate a box plot\n",
    "fig1, ax1 = plt.subplots()\n",
    "ax1.set_title('Vacancy Days by Bedrooms')\n",
    "ax1.set_ylabel('Vacancy Days')\n",
    "ax1.set_xlabel('Bedrooms')\n",
    "ax1.boxplot(five_bed_vdays, flierprops=red_diamond, widths = .7, vert=True)\n",
    "plt.show()"
   ]
  },
  {
   "cell_type": "code",
   "execution_count": null,
   "metadata": {},
   "outputs": [],
   "source": [
    "df['RentalUnitDesc'].unique()"
   ]
  },
  {
   "cell_type": "code",
   "execution_count": null,
   "metadata": {},
   "outputs": [],
   "source": [
    "for index, row in df.iterrows():\n",
    "    #df.loc[df.rentalunit.str.isupper(), 'RentalUnitDesc'] = df.rentalunit.str.title()\n",
    "    rentalunit = row['RentalUnitDesc']\n",
    "    #print(rentalunit)\n",
    "    if row['RentalUnitDesc'].isupper():\n",
    "        df.loc[index, 'RentalUnitDesc'] = rentalunit.title()\n",
    "\n",
    "df['RentalUnitDesc'].unique()\n",
    "    "
   ]
  },
  {
   "cell_type": "code",
   "execution_count": 384,
   "metadata": {},
   "outputs": [
    {
     "data": {
      "text/plain": [
       "RentalUnitDesc\n",
       "APARTMENT           41.586932\n",
       "ATTACHED HOUSING    37.898371\n",
       "Apartment           42.879784\n",
       "CLUSTER HOUSING     48.784232\n",
       "Cluster House       54.067024\n",
       "DETACHED HOUSE      54.874512\n",
       "DUAL OCCUPANCY      57.333333\n",
       "DUPLEX              55.915459\n",
       "Detached House      38.457831\n",
       "Dual Occupancy      66.306306\n",
       "Duplex              41.017021\n",
       "Room                43.883408\n",
       "SENIOR UNIT         44.592866\n",
       "Townhouse           33.046319\n",
       "Name: TotalVAC, dtype: float64"
      ]
     },
     "execution_count": 384,
     "metadata": {},
     "output_type": "execute_result"
    }
   ],
   "source": [
    "type_groupby = df.groupby(by='RentalUnitDesc',as_index=True)['TotalVAC'].mean()\n",
    "type_groupby"
   ]
  },
  {
   "cell_type": "code",
   "execution_count": 385,
   "metadata": {},
   "outputs": [
    {
     "data": {
      "image/png": "[encoded data removed]",
      "text/plain": [
       "<Figure size 432x288 with 1 Axes>"
      ]
     },
     "metadata": {
      "needs_background": "light"
     },
     "output_type": "display_data"
    }
   ],
   "source": [
    "plt.bar(type_groupby.index, type_groupby.values)\n",
    "plt.xlabel('Rental Unit Type')\n",
    "plt.ylabel('Average Vacancy Days')\n",
    "plt.title('Average Vacancy Days by Rental Unit Type')\n",
    "plt.gcf().autofmt_xdate()\n",
    "\n",
    "plt.show()"
   ]
  }
 ],
 "metadata": {
  "kernelspec": {
   "display_name": "Python 3.7.13 ('PythonData')",
   "language": "python",
   "name": "python3"
  },
  "language_info": {
   "codemirror_mode": {
    "name": "ipython",
    "version": 3
   },
   "file_extension": ".py",
   "mimetype": "text/x-python",
   "name": "python",
   "nbconvert_exporter": "python",
   "pygments_lexer": "ipython3",
   "version": "3.7.13"
  },
  "orig_nbformat": 4,
  "vscode": {
   "interpreter": {
    "hash": "9da66beca27f19bdf81de16e0121a30aa04d4edd5eb88e9a5610932102b72b6f"
   }
  }
 },
 "nbformat": 4,
 "nbformat_minor": 2
}
