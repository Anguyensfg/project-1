{
 "cells": [
  {
   "cell_type": "code",
   "execution_count": 105,
   "metadata": {},
   "outputs": [],
   "source": [
    "# Dependencies\n",
    "%matplotlib inline\n",
    "import numpy as np\n",
    "import pandas as pd\n",
    "import matplotlib.pyplot as plt\n",
    "from scipy import stats\n",
    "import scipy.stats as st\n",
    "import requests\n",
    "from scipy.stats import linregress\n",
    "import seaborn as sns\n",
    "from pandas.core.reshape.pivot import pivot\n"
   ]
  },
  {
   "cell_type": "code",
   "execution_count": 106,
   "metadata": {},
   "outputs": [
    {
     "data": {
      "text/plain": [
       "Index(['Postcode', 'Bedrooms', 'RentalUnitDesc', 'VUDate', 'VTDate', 'TENDate',\n",
       "       'RUUseType', 'HousingServiceCentre', 'VUDays', 'VTDays', 'TotalVAC',\n",
       "       'LGA', 'StateElectorate'],\n",
       "      dtype='object')"
      ]
     },
     "execution_count": 106,
     "metadata": {},
     "output_type": "execute_result"
    }
   ],
   "source": [
    "# Read CSV\n",
    "df1 = pd.read_csv(\"raw_data/2017-18-vacancy.csv\")\n",
    "df2 = pd.read_csv(\"raw_data/2018-19-vacancy.csv\")\n",
    "df3 = pd.read_csv(\"raw_data/2019-20-vacancy.csv\")\n",
    "df4 = pd.read_csv(\"raw_data/2020-21-vacancy.csv\")\n",
    "\n",
    "df1.columns"
   ]
  },
  {
   "cell_type": "code",
   "execution_count": 107,
   "metadata": {},
   "outputs": [
    {
     "data": {
      "text/plain": [
       "Index(['Postcode', 'Bedrooms', 'RentalUnitDesc', 'VUDate', 'VTDate', 'TENDate',\n",
       "       'RUUseType', 'HousingServiceCentre', 'VUDays', 'VTDays', 'TotalVAC',\n",
       "       'LGA', 'StateElectorate'],\n",
       "      dtype='object')"
      ]
     },
     "execution_count": 107,
     "metadata": {},
     "output_type": "execute_result"
    }
   ],
   "source": [
    "df2.columns"
   ]
  },
  {
   "cell_type": "code",
   "execution_count": 108,
   "metadata": {},
   "outputs": [
    {
     "data": {
      "text/plain": [
       "Index(['Postcode', 'Bedrooms', 'RentalUnitDesc', 'VUDate', 'VTDate', 'TENDate',\n",
       "       'RUUseType', 'HousingServiceCentre', 'VUDays', 'VTDays', 'TotalVAC',\n",
       "       'LGA', 'StateElectorate'],\n",
       "      dtype='object')"
      ]
     },
     "execution_count": 108,
     "metadata": {},
     "output_type": "execute_result"
    }
   ],
   "source": [
    "#Fixing column names and reordering as needed\n",
    "df3 = df3.rename(columns= {'PropertyType':'RentalUnitDesc', 'TotalVacDays':'TotalVac', 'LocalGovtAuthority':'LGA'})\n",
    "neworder = ['Postcode', 'Bedrooms', 'RentalUnitDesc', 'VUDate', 'VTDate', 'TENDate',\n",
    "       'RUUseType', 'HousingServiceCentre', 'VUDays', 'VTDays', 'TotalVAC',\n",
    "       'LGA', 'StateElectorate']\n",
    "df3=df3.reindex(columns=neworder)\n",
    "df3.columns"
   ]
  },
  {
   "cell_type": "code",
   "execution_count": 109,
   "metadata": {},
   "outputs": [
    {
     "data": {
      "text/plain": [
       "Index(['Postcode', 'Bedrooms', 'RentalUnitDesc', 'VUDate', 'VTDate', 'TENDate',\n",
       "       'RUUseType', 'HousingServiceCentre', 'VUDays', 'VTDays', 'TotalVAC',\n",
       "       'LGA', 'StateElectorate'],\n",
       "      dtype='object')"
      ]
     },
     "execution_count": 109,
     "metadata": {},
     "output_type": "execute_result"
    }
   ],
   "source": [
    "#Fixing column names and reordering as needed\n",
    "df4 = df4.rename(columns= {'PropertyType':'RentalUnitDesc', 'TotalVacDays':'TotalVac', 'LocalGovtAuthority':'LGA'})\n",
    "df4=df4.reindex(columns=neworder)\n",
    "df4.columns"
   ]
  },
  {
   "cell_type": "code",
   "execution_count": 110,
   "metadata": {},
   "outputs": [
    {
     "data": {
      "text/html": [
       "<div>\n",
       "<style scoped>\n",
       "    .dataframe tbody tr th:only-of-type {\n",
       "        vertical-align: middle;\n",
       "    }\n",
       "\n",
       "    .dataframe tbody tr th {\n",
       "        vertical-align: top;\n",
       "    }\n",
       "\n",
       "    .dataframe thead th {\n",
       "        text-align: right;\n",
       "    }\n",
       "</style>\n",
       "<table border=\"1\" class=\"dataframe\">\n",
       "  <thead>\n",
       "    <tr style=\"text-align: right;\">\n",
       "      <th></th>\n",
       "      <th>Postcode</th>\n",
       "      <th>Bedrooms</th>\n",
       "      <th>RentalUnitDesc</th>\n",
       "      <th>VUDate</th>\n",
       "      <th>VTDate</th>\n",
       "      <th>TENDate</th>\n",
       "      <th>RUUseType</th>\n",
       "      <th>HousingServiceCentre</th>\n",
       "      <th>VUDays</th>\n",
       "      <th>VTDays</th>\n",
       "      <th>TotalVAC</th>\n",
       "      <th>LGA</th>\n",
       "      <th>StateElectorate</th>\n",
       "    </tr>\n",
       "  </thead>\n",
       "  <tbody>\n",
       "    <tr>\n",
       "      <th>6262</th>\n",
       "      <td>4101</td>\n",
       "      <td>1</td>\n",
       "      <td>Apartment</td>\n",
       "      <td>1/08/2020</td>\n",
       "      <td>1/09/2020</td>\n",
       "      <td>1/09/2020</td>\n",
       "      <td>Community Housing</td>\n",
       "      <td>FORTITUDE VALLEY</td>\n",
       "      <td>23</td>\n",
       "      <td>0</td>\n",
       "      <td>23</td>\n",
       "      <td>Brisbane</td>\n",
       "      <td>South Brisbane</td>\n",
       "    </tr>\n",
       "    <tr>\n",
       "      <th>6263</th>\n",
       "      <td>4034</td>\n",
       "      <td>3</td>\n",
       "      <td>Apartment</td>\n",
       "      <td>1/05/2021</td>\n",
       "      <td>1/06/2021</td>\n",
       "      <td>1/06/2021</td>\n",
       "      <td>Community Housing</td>\n",
       "      <td>CHERMSIDE</td>\n",
       "      <td>28</td>\n",
       "      <td>0</td>\n",
       "      <td>28</td>\n",
       "      <td>Brisbane</td>\n",
       "      <td>Nudgee</td>\n",
       "    </tr>\n",
       "    <tr>\n",
       "      <th>6264</th>\n",
       "      <td>4101</td>\n",
       "      <td>1</td>\n",
       "      <td>Apartment</td>\n",
       "      <td>1/07/2020</td>\n",
       "      <td>1/08/2020</td>\n",
       "      <td>1/08/2020</td>\n",
       "      <td>Community Housing</td>\n",
       "      <td>FORTITUDE VALLEY</td>\n",
       "      <td>33</td>\n",
       "      <td>0</td>\n",
       "      <td>33</td>\n",
       "      <td>Brisbane</td>\n",
       "      <td>South Brisbane</td>\n",
       "    </tr>\n",
       "    <tr>\n",
       "      <th>6265</th>\n",
       "      <td>4020</td>\n",
       "      <td>1</td>\n",
       "      <td>Apartment</td>\n",
       "      <td>1/12/2020</td>\n",
       "      <td>1/01/2021</td>\n",
       "      <td>1/02/2021</td>\n",
       "      <td>Community Housing</td>\n",
       "      <td>MORETON BAY</td>\n",
       "      <td>35</td>\n",
       "      <td>18</td>\n",
       "      <td>53</td>\n",
       "      <td>Moreton Bay</td>\n",
       "      <td>Redcliffe</td>\n",
       "    </tr>\n",
       "    <tr>\n",
       "      <th>6266</th>\n",
       "      <td>4020</td>\n",
       "      <td>1</td>\n",
       "      <td>Apartment</td>\n",
       "      <td>1/03/2021</td>\n",
       "      <td>1/04/2021</td>\n",
       "      <td>1/04/2021</td>\n",
       "      <td>Community Housing</td>\n",
       "      <td>MORETON BAY</td>\n",
       "      <td>46</td>\n",
       "      <td>0</td>\n",
       "      <td>46</td>\n",
       "      <td>Moreton Bay</td>\n",
       "      <td>Redcliffe</td>\n",
       "    </tr>\n",
       "  </tbody>\n",
       "</table>\n",
       "</div>"
      ],
      "text/plain": [
       "      Postcode  Bedrooms RentalUnitDesc     VUDate     VTDate    TENDate  \\\n",
       "6262      4101         1      Apartment  1/08/2020  1/09/2020  1/09/2020   \n",
       "6263      4034         3      Apartment  1/05/2021  1/06/2021  1/06/2021   \n",
       "6264      4101         1      Apartment  1/07/2020  1/08/2020  1/08/2020   \n",
       "6265      4020         1      Apartment  1/12/2020  1/01/2021  1/02/2021   \n",
       "6266      4020         1      Apartment  1/03/2021  1/04/2021  1/04/2021   \n",
       "\n",
       "              RUUseType HousingServiceCentre  VUDays  VTDays  TotalVAC  \\\n",
       "6262  Community Housing    FORTITUDE VALLEY       23       0        23   \n",
       "6263  Community Housing           CHERMSIDE       28       0        28   \n",
       "6264  Community Housing    FORTITUDE VALLEY       33       0        33   \n",
       "6265  Community Housing         MORETON BAY       35      18        53   \n",
       "6266  Community Housing         MORETON BAY       46       0        46   \n",
       "\n",
       "              LGA StateElectorate  \n",
       "6262     Brisbane  South Brisbane  \n",
       "6263     Brisbane          Nudgee  \n",
       "6264     Brisbane  South Brisbane  \n",
       "6265  Moreton Bay       Redcliffe  \n",
       "6266  Moreton Bay       Redcliffe  "
      ]
     },
     "execution_count": 110,
     "metadata": {},
     "output_type": "execute_result"
    }
   ],
   "source": [
    "df4.tail()"
   ]
  },
  {
   "cell_type": "code",
   "execution_count": 111,
   "metadata": {},
   "outputs": [
    {
     "data": {
      "text/plain": [
       "(28103, 13)"
      ]
     },
     "execution_count": 111,
     "metadata": {},
     "output_type": "execute_result"
    }
   ],
   "source": [
    "#Concatenating all dataframes\n",
    "df = pd.concat([df1, df2, df3, df4])\n",
    "df = df.dropna(subset=['TotalVAC'],inplace = False)\n",
    "#Dropping rows with 0 days vacant\n",
    "df = df[df.TotalVAC != 0]\n",
    "df.shape"
   ]
  },
  {
   "cell_type": "code",
   "execution_count": 112,
   "metadata": {},
   "outputs": [
    {
     "name": "stdout",
     "output_type": "stream",
     "text": [
      "28103\n",
      "28103\n"
     ]
    }
   ],
   "source": [
    "#Create two new columns for year and month\n",
    "#Convert date string to year and month\n",
    "Years = []\n",
    "Months = []\n",
    "date_splited = []\n",
    "dates = pd.Series(df['TENDate'])\n",
    "for date in dates:\n",
    "    if '/' in date:\n",
    "        date_splited = date.split('/')\n",
    "        Years.append(date_splited[2].strip())\n",
    "        Months.append(f'{date_splited[2]}-{date_splited[1]}')\n",
    "    elif '-' in date:\n",
    "        date_splited = date.split('-')\n",
    "        Years.append(f'20{date_splited[1].strip()}')\n",
    "        Months.append(date_splited[0].strip())\n",
    "    else:\n",
    "        Years.append(date)\n",
    "\n",
    "print(len(dates))\n",
    "print(len(Years))\n",
    "df['Year'] = Years\n",
    "df['Month'] = Months"
   ]
  },
  {
   "cell_type": "code",
   "execution_count": 113,
   "metadata": {},
   "outputs": [
    {
     "data": {
      "text/html": [
       "<div>\n",
       "<style scoped>\n",
       "    .dataframe tbody tr th:only-of-type {\n",
       "        vertical-align: middle;\n",
       "    }\n",
       "\n",
       "    .dataframe tbody tr th {\n",
       "        vertical-align: top;\n",
       "    }\n",
       "\n",
       "    .dataframe thead th {\n",
       "        text-align: right;\n",
       "    }\n",
       "</style>\n",
       "<table border=\"1\" class=\"dataframe\">\n",
       "  <thead>\n",
       "    <tr style=\"text-align: right;\">\n",
       "      <th></th>\n",
       "      <th>Postcode</th>\n",
       "      <th>Bedrooms</th>\n",
       "      <th>RentalUnitDesc</th>\n",
       "      <th>VUDate</th>\n",
       "      <th>VTDate</th>\n",
       "      <th>TENDate</th>\n",
       "      <th>RUUseType</th>\n",
       "      <th>HousingServiceCentre</th>\n",
       "      <th>VUDays</th>\n",
       "      <th>VTDays</th>\n",
       "      <th>TotalVAC</th>\n",
       "      <th>LGA</th>\n",
       "      <th>StateElectorate</th>\n",
       "      <th>Year</th>\n",
       "      <th>Month</th>\n",
       "    </tr>\n",
       "  </thead>\n",
       "  <tbody>\n",
       "    <tr>\n",
       "      <th>0</th>\n",
       "      <td>4032</td>\n",
       "      <td>3</td>\n",
       "      <td>DETACHED HOUSE</td>\n",
       "      <td>9/10/2017</td>\n",
       "      <td>2/11/2017</td>\n",
       "      <td>3/11/2017</td>\n",
       "      <td>Public Housing</td>\n",
       "      <td>105</td>\n",
       "      <td>24</td>\n",
       "      <td>1</td>\n",
       "      <td>25</td>\n",
       "      <td>BRISBANE</td>\n",
       "      <td>STAFFORD</td>\n",
       "      <td>2017</td>\n",
       "      <td>2017-11</td>\n",
       "    </tr>\n",
       "    <tr>\n",
       "      <th>1</th>\n",
       "      <td>4108</td>\n",
       "      <td>2</td>\n",
       "      <td>APARTMENT</td>\n",
       "      <td>3/04/2018</td>\n",
       "      <td>18/04/2018</td>\n",
       "      <td>2/05/2018</td>\n",
       "      <td>Public Housing</td>\n",
       "      <td>107</td>\n",
       "      <td>15</td>\n",
       "      <td>14</td>\n",
       "      <td>29</td>\n",
       "      <td>BRISBANE</td>\n",
       "      <td>TOOHEY</td>\n",
       "      <td>2018</td>\n",
       "      <td>2018-05</td>\n",
       "    </tr>\n",
       "    <tr>\n",
       "      <th>2</th>\n",
       "      <td>4108</td>\n",
       "      <td>2</td>\n",
       "      <td>APARTMENT</td>\n",
       "      <td>1/08/2017</td>\n",
       "      <td>11/08/2017</td>\n",
       "      <td>21/08/2017</td>\n",
       "      <td>Public Housing</td>\n",
       "      <td>107</td>\n",
       "      <td>10</td>\n",
       "      <td>10</td>\n",
       "      <td>20</td>\n",
       "      <td>BRISBANE</td>\n",
       "      <td>TOOHEY</td>\n",
       "      <td>2017</td>\n",
       "      <td>2017-08</td>\n",
       "    </tr>\n",
       "    <tr>\n",
       "      <th>3</th>\n",
       "      <td>4108</td>\n",
       "      <td>2</td>\n",
       "      <td>APARTMENT</td>\n",
       "      <td>1/03/2018</td>\n",
       "      <td>23/03/2018</td>\n",
       "      <td>28/03/2018</td>\n",
       "      <td>Public Housing</td>\n",
       "      <td>107</td>\n",
       "      <td>22</td>\n",
       "      <td>5</td>\n",
       "      <td>27</td>\n",
       "      <td>BRISBANE</td>\n",
       "      <td>TOOHEY</td>\n",
       "      <td>2018</td>\n",
       "      <td>2018-03</td>\n",
       "    </tr>\n",
       "    <tr>\n",
       "      <th>4</th>\n",
       "      <td>4108</td>\n",
       "      <td>2</td>\n",
       "      <td>APARTMENT</td>\n",
       "      <td>15/11/2017</td>\n",
       "      <td>1/12/2017</td>\n",
       "      <td>2/01/2018</td>\n",
       "      <td>Public Housing</td>\n",
       "      <td>107</td>\n",
       "      <td>16</td>\n",
       "      <td>32</td>\n",
       "      <td>48</td>\n",
       "      <td>BRISBANE</td>\n",
       "      <td>TOOHEY</td>\n",
       "      <td>2018</td>\n",
       "      <td>2018-01</td>\n",
       "    </tr>\n",
       "  </tbody>\n",
       "</table>\n",
       "</div>"
      ],
      "text/plain": [
       "   Postcode  Bedrooms  RentalUnitDesc      VUDate      VTDate     TENDate  \\\n",
       "0      4032         3  DETACHED HOUSE   9/10/2017   2/11/2017   3/11/2017   \n",
       "1      4108         2       APARTMENT   3/04/2018  18/04/2018   2/05/2018   \n",
       "2      4108         2       APARTMENT   1/08/2017  11/08/2017  21/08/2017   \n",
       "3      4108         2       APARTMENT   1/03/2018  23/03/2018  28/03/2018   \n",
       "4      4108         2       APARTMENT  15/11/2017   1/12/2017   2/01/2018   \n",
       "\n",
       "        RUUseType HousingServiceCentre  VUDays  VTDays  TotalVAC       LGA  \\\n",
       "0  Public Housing                  105      24       1        25  BRISBANE   \n",
       "1  Public Housing                  107      15      14        29  BRISBANE   \n",
       "2  Public Housing                  107      10      10        20  BRISBANE   \n",
       "3  Public Housing                  107      22       5        27  BRISBANE   \n",
       "4  Public Housing                  107      16      32        48  BRISBANE   \n",
       "\n",
       "  StateElectorate  Year    Month  \n",
       "0        STAFFORD  2017  2017-11  \n",
       "1          TOOHEY  2018  2018-05  \n",
       "2          TOOHEY  2017  2017-08  \n",
       "3          TOOHEY  2018  2018-03  \n",
       "4          TOOHEY  2018  2018-01  "
      ]
     },
     "execution_count": 113,
     "metadata": {},
     "output_type": "execute_result"
    }
   ],
   "source": [
    "df.head()"
   ]
  },
  {
   "cell_type": "code",
   "execution_count": 114,
   "metadata": {},
   "outputs": [
    {
     "data": {
      "text/html": [
       "<div>\n",
       "<style scoped>\n",
       "    .dataframe tbody tr th:only-of-type {\n",
       "        vertical-align: middle;\n",
       "    }\n",
       "\n",
       "    .dataframe tbody tr th {\n",
       "        vertical-align: top;\n",
       "    }\n",
       "\n",
       "    .dataframe thead th {\n",
       "        text-align: right;\n",
       "    }\n",
       "</style>\n",
       "<table border=\"1\" class=\"dataframe\">\n",
       "  <thead>\n",
       "    <tr style=\"text-align: right;\">\n",
       "      <th></th>\n",
       "      <th>Postcode</th>\n",
       "      <th>Bedrooms</th>\n",
       "      <th>RentalUnitDesc</th>\n",
       "      <th>VUDate</th>\n",
       "      <th>VTDate</th>\n",
       "      <th>TENDate</th>\n",
       "      <th>RUUseType</th>\n",
       "      <th>HousingServiceCentre</th>\n",
       "      <th>VUDays</th>\n",
       "      <th>VTDays</th>\n",
       "      <th>TotalVAC</th>\n",
       "      <th>LGA</th>\n",
       "      <th>StateElectorate</th>\n",
       "      <th>Year</th>\n",
       "      <th>Month</th>\n",
       "    </tr>\n",
       "  </thead>\n",
       "  <tbody>\n",
       "    <tr>\n",
       "      <th>0</th>\n",
       "      <td>4032</td>\n",
       "      <td>3</td>\n",
       "      <td>DETACHED HOUSE</td>\n",
       "      <td>9/10/2017</td>\n",
       "      <td>2/11/2017</td>\n",
       "      <td>3/11/2017</td>\n",
       "      <td>Public Housing</td>\n",
       "      <td>105</td>\n",
       "      <td>24</td>\n",
       "      <td>1</td>\n",
       "      <td>25</td>\n",
       "      <td>BRISBANE</td>\n",
       "      <td>STAFFORD</td>\n",
       "      <td>2017</td>\n",
       "      <td>2017-11</td>\n",
       "    </tr>\n",
       "    <tr>\n",
       "      <th>1</th>\n",
       "      <td>4108</td>\n",
       "      <td>2</td>\n",
       "      <td>APARTMENT</td>\n",
       "      <td>3/04/2018</td>\n",
       "      <td>18/04/2018</td>\n",
       "      <td>2/05/2018</td>\n",
       "      <td>Public Housing</td>\n",
       "      <td>107</td>\n",
       "      <td>15</td>\n",
       "      <td>14</td>\n",
       "      <td>29</td>\n",
       "      <td>BRISBANE</td>\n",
       "      <td>TOOHEY</td>\n",
       "      <td>2018</td>\n",
       "      <td>2018-05</td>\n",
       "    </tr>\n",
       "    <tr>\n",
       "      <th>2</th>\n",
       "      <td>4108</td>\n",
       "      <td>2</td>\n",
       "      <td>APARTMENT</td>\n",
       "      <td>1/08/2017</td>\n",
       "      <td>11/08/2017</td>\n",
       "      <td>21/08/2017</td>\n",
       "      <td>Public Housing</td>\n",
       "      <td>107</td>\n",
       "      <td>10</td>\n",
       "      <td>10</td>\n",
       "      <td>20</td>\n",
       "      <td>BRISBANE</td>\n",
       "      <td>TOOHEY</td>\n",
       "      <td>2017</td>\n",
       "      <td>2017-08</td>\n",
       "    </tr>\n",
       "    <tr>\n",
       "      <th>3</th>\n",
       "      <td>4108</td>\n",
       "      <td>2</td>\n",
       "      <td>APARTMENT</td>\n",
       "      <td>1/03/2018</td>\n",
       "      <td>23/03/2018</td>\n",
       "      <td>28/03/2018</td>\n",
       "      <td>Public Housing</td>\n",
       "      <td>107</td>\n",
       "      <td>22</td>\n",
       "      <td>5</td>\n",
       "      <td>27</td>\n",
       "      <td>BRISBANE</td>\n",
       "      <td>TOOHEY</td>\n",
       "      <td>2018</td>\n",
       "      <td>2018-03</td>\n",
       "    </tr>\n",
       "    <tr>\n",
       "      <th>4</th>\n",
       "      <td>4108</td>\n",
       "      <td>2</td>\n",
       "      <td>APARTMENT</td>\n",
       "      <td>15/11/2017</td>\n",
       "      <td>1/12/2017</td>\n",
       "      <td>2/01/2018</td>\n",
       "      <td>Public Housing</td>\n",
       "      <td>107</td>\n",
       "      <td>16</td>\n",
       "      <td>32</td>\n",
       "      <td>48</td>\n",
       "      <td>BRISBANE</td>\n",
       "      <td>TOOHEY</td>\n",
       "      <td>2018</td>\n",
       "      <td>2018-01</td>\n",
       "    </tr>\n",
       "  </tbody>\n",
       "</table>\n",
       "</div>"
      ],
      "text/plain": [
       "   Postcode  Bedrooms  RentalUnitDesc      VUDate      VTDate     TENDate  \\\n",
       "0      4032         3  DETACHED HOUSE   9/10/2017   2/11/2017   3/11/2017   \n",
       "1      4108         2       APARTMENT   3/04/2018  18/04/2018   2/05/2018   \n",
       "2      4108         2       APARTMENT   1/08/2017  11/08/2017  21/08/2017   \n",
       "3      4108         2       APARTMENT   1/03/2018  23/03/2018  28/03/2018   \n",
       "4      4108         2       APARTMENT  15/11/2017   1/12/2017   2/01/2018   \n",
       "\n",
       "        RUUseType HousingServiceCentre  VUDays  VTDays  TotalVAC       LGA  \\\n",
       "0  Public Housing                  105      24       1        25  BRISBANE   \n",
       "1  Public Housing                  107      15      14        29  BRISBANE   \n",
       "2  Public Housing                  107      10      10        20  BRISBANE   \n",
       "3  Public Housing                  107      22       5        27  BRISBANE   \n",
       "4  Public Housing                  107      16      32        48  BRISBANE   \n",
       "\n",
       "  StateElectorate  Year    Month  \n",
       "0        STAFFORD  2017  2017-11  \n",
       "1          TOOHEY  2018  2018-05  \n",
       "2          TOOHEY  2017  2017-08  \n",
       "3          TOOHEY  2018  2018-03  \n",
       "4          TOOHEY  2018  2018-01  "
      ]
     },
     "execution_count": 114,
     "metadata": {},
     "output_type": "execute_result"
    }
   ],
   "source": [
    "#Write to CSV\n",
    "df.to_csv(\"all_vacancy_data.csv\")\n",
    "df.head()"
   ]
  },
  {
   "cell_type": "code",
   "execution_count": 115,
   "metadata": {},
   "outputs": [
    {
     "data": {
      "text/html": [
       "<div>\n",
       "<style scoped>\n",
       "    .dataframe tbody tr th:only-of-type {\n",
       "        vertical-align: middle;\n",
       "    }\n",
       "\n",
       "    .dataframe tbody tr th {\n",
       "        vertical-align: top;\n",
       "    }\n",
       "\n",
       "    .dataframe thead th {\n",
       "        text-align: right;\n",
       "    }\n",
       "</style>\n",
       "<table border=\"1\" class=\"dataframe\">\n",
       "  <thead>\n",
       "    <tr style=\"text-align: right;\">\n",
       "      <th></th>\n",
       "      <th>VUDays</th>\n",
       "      <th>VTDays</th>\n",
       "      <th>TotalVAC</th>\n",
       "      <th>LGA</th>\n",
       "    </tr>\n",
       "    <tr>\n",
       "      <th>Year</th>\n",
       "      <th></th>\n",
       "      <th></th>\n",
       "      <th></th>\n",
       "      <th></th>\n",
       "    </tr>\n",
       "  </thead>\n",
       "  <tbody>\n",
       "    <tr>\n",
       "      <th>2017</th>\n",
       "      <td>13.441606</td>\n",
       "      <td>16.868052</td>\n",
       "      <td>30.309657</td>\n",
       "      <td>3562</td>\n",
       "    </tr>\n",
       "    <tr>\n",
       "      <th>2018</th>\n",
       "      <td>17.285539</td>\n",
       "      <td>29.051966</td>\n",
       "      <td>46.337505</td>\n",
       "      <td>7351</td>\n",
       "    </tr>\n",
       "    <tr>\n",
       "      <th>2019</th>\n",
       "      <td>21.893207</td>\n",
       "      <td>34.134239</td>\n",
       "      <td>56.027446</td>\n",
       "      <td>7360</td>\n",
       "    </tr>\n",
       "    <tr>\n",
       "      <th>2020</th>\n",
       "      <td>18.509575</td>\n",
       "      <td>24.308855</td>\n",
       "      <td>42.818431</td>\n",
       "      <td>6945</td>\n",
       "    </tr>\n",
       "    <tr>\n",
       "      <th>2021</th>\n",
       "      <td>12.869671</td>\n",
       "      <td>15.323397</td>\n",
       "      <td>28.193068</td>\n",
       "      <td>2885</td>\n",
       "    </tr>\n",
       "  </tbody>\n",
       "</table>\n",
       "</div>"
      ],
      "text/plain": [
       "         VUDays     VTDays   TotalVAC   LGA\n",
       "Year                                       \n",
       "2017  13.441606  16.868052  30.309657  3562\n",
       "2018  17.285539  29.051966  46.337505  7351\n",
       "2019  21.893207  34.134239  56.027446  7360\n",
       "2020  18.509575  24.308855  42.818431  6945\n",
       "2021  12.869671  15.323397  28.193068  2885"
      ]
     },
     "execution_count": 115,
     "metadata": {},
     "output_type": "execute_result"
    }
   ],
   "source": [
    "#Group by year\n",
    "year_groupby = df.groupby(by='Year',as_index=True).agg({'VUDays':'mean', 'VTDays':'mean', 'TotalVAC':'mean', 'LGA': 'count'})#[['VUDays', 'VTDays', 'TotalVAC']].mean()\n",
    "year_groupby.head(30)"
   ]
  },
  {
   "cell_type": "code",
   "execution_count": 116,
   "metadata": {},
   "outputs": [
    {
     "data": {
      "image/png": "[encoded data removed]",
      "text/plain": [
       "<Figure size 432x288 with 1 Axes>"
      ]
     },
     "metadata": {
      "needs_background": "light"
     },
     "output_type": "display_data"
    }
   ],
   "source": [
    "#Plotting\n",
    "plt.bar(year_groupby.index, year_groupby['TotalVAC'])\n",
    "plt.xlabel('Year')\n",
    "plt.ylabel('Average Vacancy Days')\n",
    "plt.title('Average Vacancy Days by Year')\n",
    "plt.show()"
   ]
  },
  {
   "cell_type": "code",
   "execution_count": null,
   "metadata": {},
   "outputs": [],
   "source": [
    "\n"
   ]
  },
  {
   "cell_type": "code",
   "execution_count": 117,
   "metadata": {},
   "outputs": [
    {
     "data": {
      "image/png": "[encoded data removed]",
      "text/plain": [
       "<Figure size 432x288 with 1 Axes>"
      ]
     },
     "metadata": {
      "needs_background": "light"
     },
     "output_type": "display_data"
    }
   ],
   "source": [
    "#Plotting\n",
    "x_axis=np.arange(len(year_groupby.index))\n",
    "plt.bar(x_axis - 0.2, year_groupby['VUDays'], 0.4, label = 'Untenable')\n",
    "plt.bar(x_axis + 0.2, year_groupby['VTDays'], 0.4, label = 'Tenable')\n",
    "plt.xticks(x_axis, year_groupby.index)\n",
    "plt.xlabel('Year')\n",
    "plt.ylabel('Average Vacancy Days')\n",
    "plt.title('Untenable and Tenable Vacancy Days by Year')\n",
    "plt.legend()\n",
    "plt.show()\n"
   ]
  },
  {
   "cell_type": "code",
   "execution_count": 118,
   "metadata": {},
   "outputs": [
    {
     "data": {
      "text/html": [
       "<div>\n",
       "<style scoped>\n",
       "    .dataframe tbody tr th:only-of-type {\n",
       "        vertical-align: middle;\n",
       "    }\n",
       "\n",
       "    .dataframe tbody tr th {\n",
       "        vertical-align: top;\n",
       "    }\n",
       "\n",
       "    .dataframe thead th {\n",
       "        text-align: right;\n",
       "    }\n",
       "</style>\n",
       "<table border=\"1\" class=\"dataframe\">\n",
       "  <thead>\n",
       "    <tr style=\"text-align: right;\">\n",
       "      <th></th>\n",
       "      <th>Month</th>\n",
       "      <th>VUDays</th>\n",
       "      <th>VTDays</th>\n",
       "      <th>TotalVAC</th>\n",
       "      <th>Vacancy Count</th>\n",
       "    </tr>\n",
       "  </thead>\n",
       "  <tbody>\n",
       "    <tr>\n",
       "      <th>0</th>\n",
       "      <td>2017-07</td>\n",
       "      <td>11.617089</td>\n",
       "      <td>15.492089</td>\n",
       "      <td>27.109177</td>\n",
       "      <td>632</td>\n",
       "    </tr>\n",
       "    <tr>\n",
       "      <th>1</th>\n",
       "      <td>2017-08</td>\n",
       "      <td>13.576490</td>\n",
       "      <td>14.988728</td>\n",
       "      <td>28.565217</td>\n",
       "      <td>621</td>\n",
       "    </tr>\n",
       "    <tr>\n",
       "      <th>2</th>\n",
       "      <td>2017-09</td>\n",
       "      <td>14.102142</td>\n",
       "      <td>12.237232</td>\n",
       "      <td>26.339374</td>\n",
       "      <td>607</td>\n",
       "    </tr>\n",
       "    <tr>\n",
       "      <th>3</th>\n",
       "      <td>2017-10</td>\n",
       "      <td>14.374723</td>\n",
       "      <td>14.534368</td>\n",
       "      <td>28.909091</td>\n",
       "      <td>451</td>\n",
       "    </tr>\n",
       "    <tr>\n",
       "      <th>4</th>\n",
       "      <td>2017-11</td>\n",
       "      <td>13.397882</td>\n",
       "      <td>12.161876</td>\n",
       "      <td>25.559758</td>\n",
       "      <td>661</td>\n",
       "    </tr>\n",
       "  </tbody>\n",
       "</table>\n",
       "</div>"
      ],
      "text/plain": [
       "     Month     VUDays     VTDays   TotalVAC  Vacancy Count\n",
       "0  2017-07  11.617089  15.492089  27.109177            632\n",
       "1  2017-08  13.576490  14.988728  28.565217            621\n",
       "2  2017-09  14.102142  12.237232  26.339374            607\n",
       "3  2017-10  14.374723  14.534368  28.909091            451\n",
       "4  2017-11  13.397882  12.161876  25.559758            661"
      ]
     },
     "execution_count": 118,
     "metadata": {},
     "output_type": "execute_result"
    }
   ],
   "source": [
    "#Group by month\n",
    "months_groupby = df.groupby(by='Month',as_index=False).agg({'VUDays':'mean', 'VTDays':'mean', 'TotalVAC':'mean', 'LGA': 'count'})#[['VUDays', 'VTDays', 'TotalVAC']].mean()\n",
    "months_groupby = months_groupby.rename(columns= {'LGA':'Vacancy Count'})\n",
    "months_groupby.head()"
   ]
  },
  {
   "cell_type": "code",
   "execution_count": 119,
   "metadata": {},
   "outputs": [
    {
     "data": {
      "text/plain": [
       "pandas.core.series.Series"
      ]
     },
     "execution_count": 119,
     "metadata": {},
     "output_type": "execute_result"
    }
   ],
   "source": [
    "type(months_groupby['Vacancy Count'])"
   ]
  },
  {
   "cell_type": "code",
   "execution_count": 120,
   "metadata": {},
   "outputs": [
    {
     "data": {
      "image/png": "[encoded data removed]",
      "text/plain": [
       "<Figure size 1440x720 with 1 Axes>"
      ]
     },
     "metadata": {
      "needs_background": "light"
     },
     "output_type": "display_data"
    }
   ],
   "source": [
    "#inear regression\n",
    "x_values = months_groupby.index\n",
    "y_values = months_groupby['Vacancy Count'].astype(float)\n",
    "(slope, intercept, rvalue, pvalue, stderr) = linregress(x_values, y_values)\n",
    "regress_values = x_values * slope + intercept\n",
    "line_eq = \"y = \" + str(round(slope,2)) + \"x + \" + str(round(intercept,2))\n",
    "plt.figure(figsize=(20,10))\n",
    "plt.scatter(months_groupby['Month'],y_values)\n",
    "plt.plot(x_values,regress_values,\"r-\")\n",
    "plt.annotate(line_eq,(40,40),fontsize=15,color=\"red\")\n",
    "\n",
    "plt.xlabel('Year-Month')\n",
    "plt.ylabel('Vacancy Count')\n",
    "plt.title('Vacancy Count by Year-Month')\n",
    "plt.gcf().autofmt_xdate()\n",
    "plt.show()\n"
   ]
  },
  {
   "cell_type": "code",
   "execution_count": 121,
   "metadata": {},
   "outputs": [
    {
     "data": {
      "text/plain": [
       "Bedrooms\n",
       "1    40.850624\n",
       "2    46.886422\n",
       "3    45.231746\n",
       "4    42.663354\n",
       "5    83.305882\n",
       "6    23.000000\n",
       "7    14.000000\n",
       "Name: TotalVAC, dtype: float64"
      ]
     },
     "execution_count": 121,
     "metadata": {},
     "output_type": "execute_result"
    }
   ],
   "source": [
    "#Group by bedroom\n",
    "rooms_groupby = df.groupby(by='Bedrooms',as_index=True)['TotalVAC'].mean()\n",
    "rooms_groupby"
   ]
  },
  {
   "cell_type": "code",
   "execution_count": null,
   "metadata": {},
   "outputs": [],
   "source": []
  },
  {
   "cell_type": "code",
   "execution_count": 122,
   "metadata": {},
   "outputs": [
    {
     "data": {
      "image/png": "[encoded data removed]",
      "text/plain": [
       "<Figure size 432x288 with 1 Axes>"
      ]
     },
     "metadata": {
      "needs_background": "light"
     },
     "output_type": "display_data"
    }
   ],
   "source": [
    "#Plotting\n",
    "plt.plot(rooms_groupby.index, rooms_groupby.values)\n",
    "plt.xlabel('Bedrooms')\n",
    "plt.ylabel('Average Vacancy Days')\n",
    "plt.title('Average Vacancy Days by Bedrooms')\n",
    "plt.show()"
   ]
  },
  {
   "cell_type": "markdown",
   "metadata": {},
   "source": [
    "Shows a clear downward trend with the increasing bedroom number, but 5 bedroom type shows diffrent. Lets investigate more."
   ]
  },
  {
   "cell_type": "code",
   "execution_count": 123,
   "metadata": {},
   "outputs": [
    {
     "data": {
      "text/plain": [
       "array(['DETACHED HOUSE', 'APARTMENT', 'SENIOR UNIT', 'DUPLEX',\n",
       "       'ATTACHED HOUSING', 'CLUSTER HOUSING', 'DUAL OCCUPANCY',\n",
       "       'Townhouse', 'Detached House', 'Apartment', 'Cluster House',\n",
       "       'Duplex', 'Room', 'Dual Occupancy'], dtype=object)"
      ]
     },
     "execution_count": 123,
     "metadata": {},
     "output_type": "execute_result"
    }
   ],
   "source": [
    "df['RentalUnitDesc'].unique()"
   ]
  },
  {
   "cell_type": "code",
   "execution_count": 124,
   "metadata": {},
   "outputs": [
    {
     "data": {
      "text/plain": [
       "array(['Detached House', 'Senior Unit', 'Attached Housing', 'Apartment',\n",
       "       'Cluster Housing', 'Duplex', 'Dual Occupancy', 'Townhouse'],\n",
       "      dtype=object)"
      ]
     },
     "execution_count": 124,
     "metadata": {},
     "output_type": "execute_result"
    }
   ],
   "source": [
    "#Realign the case type of RentalUnitDesc\n",
    "for index, row in df.iterrows():\n",
    "    #df.loc[df.rentalunit.str.isupper(), 'RentalUnitDesc'] = df.rentalunit.str.title()\n",
    "    rentalunit = row['RentalUnitDesc']\n",
    "    #print(rentalunit)\n",
    "    if row['RentalUnitDesc'].isupper():\n",
    "        df.loc[index, 'RentalUnitDesc'] = rentalunit.title()\n",
    "\n",
    "df['RentalUnitDesc'].unique()\n",
    "    "
   ]
  },
  {
   "cell_type": "code",
   "execution_count": 125,
   "metadata": {},
   "outputs": [
    {
     "data": {
      "text/html": [
       "<div>\n",
       "<style scoped>\n",
       "    .dataframe tbody tr th:only-of-type {\n",
       "        vertical-align: middle;\n",
       "    }\n",
       "\n",
       "    .dataframe tbody tr th {\n",
       "        vertical-align: top;\n",
       "    }\n",
       "\n",
       "    .dataframe thead th {\n",
       "        text-align: right;\n",
       "    }\n",
       "</style>\n",
       "<table border=\"1\" class=\"dataframe\">\n",
       "  <thead>\n",
       "    <tr style=\"text-align: right;\">\n",
       "      <th>RentalUnitDesc</th>\n",
       "      <th>Apartment</th>\n",
       "      <th>Attached Housing</th>\n",
       "      <th>Cluster Housing</th>\n",
       "      <th>Detached House</th>\n",
       "      <th>Dual Occupancy</th>\n",
       "      <th>Duplex</th>\n",
       "      <th>Senior Unit</th>\n",
       "      <th>Townhouse</th>\n",
       "    </tr>\n",
       "    <tr>\n",
       "      <th>Bedrooms</th>\n",
       "      <th></th>\n",
       "      <th></th>\n",
       "      <th></th>\n",
       "      <th></th>\n",
       "      <th></th>\n",
       "      <th></th>\n",
       "      <th></th>\n",
       "      <th></th>\n",
       "    </tr>\n",
       "  </thead>\n",
       "  <tbody>\n",
       "    <tr>\n",
       "      <th>1</th>\n",
       "      <td>40.116512</td>\n",
       "      <td>41.811346</td>\n",
       "      <td>45.887755</td>\n",
       "      <td>37.897985</td>\n",
       "      <td>36.013333</td>\n",
       "      <td>39.306723</td>\n",
       "      <td>44.421263</td>\n",
       "      <td>NaN</td>\n",
       "    </tr>\n",
       "    <tr>\n",
       "      <th>2</th>\n",
       "      <td>46.903340</td>\n",
       "      <td>35.435996</td>\n",
       "      <td>47.219081</td>\n",
       "      <td>44.870185</td>\n",
       "      <td>58.436782</td>\n",
       "      <td>61.111702</td>\n",
       "      <td>50.492509</td>\n",
       "      <td>52.666667</td>\n",
       "    </tr>\n",
       "    <tr>\n",
       "      <th>3</th>\n",
       "      <td>33.985273</td>\n",
       "      <td>38.624811</td>\n",
       "      <td>39.946237</td>\n",
       "      <td>53.663884</td>\n",
       "      <td>63.400000</td>\n",
       "      <td>40.719403</td>\n",
       "      <td>37.108607</td>\n",
       "      <td>60.000000</td>\n",
       "    </tr>\n",
       "    <tr>\n",
       "      <th>4</th>\n",
       "      <td>33.463700</td>\n",
       "      <td>37.045045</td>\n",
       "      <td>40.043478</td>\n",
       "      <td>53.156969</td>\n",
       "      <td>38.923077</td>\n",
       "      <td>38.447368</td>\n",
       "      <td>28.959596</td>\n",
       "      <td>NaN</td>\n",
       "    </tr>\n",
       "    <tr>\n",
       "      <th>5</th>\n",
       "      <td>50.045455</td>\n",
       "      <td>18.750000</td>\n",
       "      <td>12.666667</td>\n",
       "      <td>131.691358</td>\n",
       "      <td>8.000000</td>\n",
       "      <td>37.000000</td>\n",
       "      <td>34.875000</td>\n",
       "      <td>NaN</td>\n",
       "    </tr>\n",
       "    <tr>\n",
       "      <th>6</th>\n",
       "      <td>7.666667</td>\n",
       "      <td>38.000000</td>\n",
       "      <td>NaN</td>\n",
       "      <td>29.142857</td>\n",
       "      <td>NaN</td>\n",
       "      <td>NaN</td>\n",
       "      <td>17.000000</td>\n",
       "      <td>NaN</td>\n",
       "    </tr>\n",
       "    <tr>\n",
       "      <th>7</th>\n",
       "      <td>14.000000</td>\n",
       "      <td>NaN</td>\n",
       "      <td>NaN</td>\n",
       "      <td>NaN</td>\n",
       "      <td>NaN</td>\n",
       "      <td>14.000000</td>\n",
       "      <td>NaN</td>\n",
       "      <td>NaN</td>\n",
       "    </tr>\n",
       "  </tbody>\n",
       "</table>\n",
       "</div>"
      ],
      "text/plain": [
       "RentalUnitDesc  Apartment  Attached Housing  Cluster Housing  Detached House  \\\n",
       "Bedrooms                                                                       \n",
       "1               40.116512         41.811346        45.887755       37.897985   \n",
       "2               46.903340         35.435996        47.219081       44.870185   \n",
       "3               33.985273         38.624811        39.946237       53.663884   \n",
       "4               33.463700         37.045045        40.043478       53.156969   \n",
       "5               50.045455         18.750000        12.666667      131.691358   \n",
       "6                7.666667         38.000000              NaN       29.142857   \n",
       "7               14.000000               NaN              NaN             NaN   \n",
       "\n",
       "RentalUnitDesc  Dual Occupancy     Duplex  Senior Unit  Townhouse  \n",
       "Bedrooms                                                           \n",
       "1                    36.013333  39.306723    44.421263        NaN  \n",
       "2                    58.436782  61.111702    50.492509  52.666667  \n",
       "3                    63.400000  40.719403    37.108607  60.000000  \n",
       "4                    38.923077  38.447368    28.959596        NaN  \n",
       "5                     8.000000  37.000000    34.875000        NaN  \n",
       "6                          NaN        NaN    17.000000        NaN  \n",
       "7                          NaN  14.000000          NaN        NaN  "
      ]
     },
     "execution_count": 125,
     "metadata": {},
     "output_type": "execute_result"
    }
   ],
   "source": [
    "#Group by rental unit type\n",
    "type_groupby = df.groupby(by=['Bedrooms','RentalUnitDesc'],as_index=False)['TotalVAC'].mean()\n",
    "#Create a pivot table of bedroom and rental unit type\n",
    "bed_type = type_groupby.pivot(index='Bedrooms', columns='RentalUnitDesc', values='TotalVAC').reset_index()\n",
    "bed_type.set_index('Bedrooms', inplace=True)\n",
    "bed_type"
   ]
  },
  {
   "cell_type": "code",
   "execution_count": 126,
   "metadata": {},
   "outputs": [
    {
     "data": {
      "image/png": "[encoded data removed]",
      "text/plain": [
       "<Figure size 1440x720 with 1 Axes>"
      ]
     },
     "metadata": {
      "needs_background": "light"
     },
     "output_type": "display_data"
    }
   ],
   "source": [
    "#Plotting\n",
    "bed_type.plot.bar(figsize=(20,10))\n",
    "\n",
    "plt.show()"
   ]
  },
  {
   "cell_type": "markdown",
   "metadata": {},
   "source": [
    "5 Bedroom Detached House's Total Vacancy days count is weirdly high. Lets find the outliers."
   ]
  },
  {
   "cell_type": "code",
   "execution_count": 127,
   "metadata": {},
   "outputs": [
    {
     "data": {
      "text/plain": [
       "98       31\n",
       "1261     33\n",
       "1516     20\n",
       "2660     11\n",
       "3262     34\n",
       "       ... \n",
       "1285      8\n",
       "1880      2\n",
       "2516     37\n",
       "4033     21\n",
       "4771    164\n",
       "Name: TotalVAC, Length: 81, dtype: int64"
      ]
     },
     "execution_count": 127,
     "metadata": {},
     "output_type": "execute_result"
    }
   ],
   "source": [
    "#Filtering out the data for 5 bedroom Detached House\n",
    "five_bed_df = df[df['Bedrooms'] == 5]\n",
    "five_bed_detached = five_bed_df[five_bed_df['RentalUnitDesc'] == 'Detached House']\n",
    "\n",
    "five_bed_detached_vdays = five_bed_detached['TotalVAC']\n",
    "five_bed_detached_vdays\n"
   ]
  },
  {
   "cell_type": "code",
   "execution_count": 128,
   "metadata": {},
   "outputs": [
    {
     "name": "stdout",
     "output_type": "stream",
     "text": [
      "Potential outlier are: \n",
      "5452     119\n",
      "5866     287\n",
      "6773     124\n",
      "6859    7412\n",
      "7476     103\n",
      "7031     326\n",
      "7237      95\n",
      "7328     188\n",
      "4771     164\n",
      "Name: TotalVAC, dtype: int64\n",
      "--------------------------------------------------\n"
     ]
    }
   ],
   "source": [
    "# Calculate the IQR and \n",
    "# quantitatively determine if there are any potential outliers. \n",
    "def quartiles(df):\n",
    "    quartiles = df.quantile([0.25,0.5,0.75])\n",
    "    lowerq = quartiles[0.25]\n",
    "    upperq = quartiles[0.75]\n",
    "    iqr = upperq-lowerq\n",
    "    lower_bound = lowerq - (1.5*iqr)\n",
    "    upper_bound = upperq + (1.5*iqr)\n",
    "    # Determine outliers using upper and lower bounds\n",
    "    outliers = df.loc[(df< lower_bound) | (df > upper_bound)]\n",
    "    if len(outliers) > 0:\n",
    "        print(f'Potential outlier are: \\n{outliers}')\n",
    "    print(\"--------------------------------------------------\")\n",
    "    return\n",
    "\n",
    "quartiles(five_bed_detached_vdays)"
   ]
  },
  {
   "cell_type": "code",
   "execution_count": 129,
   "metadata": {},
   "outputs": [
    {
     "data": {
      "image/png": "[encoded data removed]",
      "text/plain": [
       "<Figure size 432x288 with 1 Axes>"
      ]
     },
     "metadata": {
      "needs_background": "light"
     },
     "output_type": "display_data"
    }
   ],
   "source": [
    "# Generate a box plot of the 5 Bed Detached House Vacancy Days\n",
    "#Variable to change the colour of the potential outlier in boxplot\n",
    "red_diamond = dict(markerfacecolor='r', marker='D')\n",
    "# Generate a box plot\n",
    "fig1, ax1 = plt.subplots()\n",
    "ax1.set_title('Vacancy Days by Bedrooms')\n",
    "ax1.set_ylabel('Vacancy Days')\n",
    "ax1.set_xlabel('Bedrooms')\n",
    "ax1.boxplot(five_bed_detached_vdays, flierprops=red_diamond, widths = .7, vert=True)\n",
    "plt.show()"
   ]
  },
  {
   "cell_type": "code",
   "execution_count": 130,
   "metadata": {},
   "outputs": [
    {
     "data": {
      "text/plain": [
       "(28093, 15)"
      ]
     },
     "execution_count": 130,
     "metadata": {},
     "output_type": "execute_result"
    }
   ],
   "source": [
    "#Drop top 3 outliers index 6859, 7031, 5866\n",
    "new_df = df.drop([6859, 7031, 5866])\n",
    "#Group by bedroom\n",
    "rooms_groupby = new_df.groupby(by='Bedrooms',as_index=True)['TotalVAC'].mean()\n",
    "new_df.shape\n"
   ]
  },
  {
   "cell_type": "code",
   "execution_count": 131,
   "metadata": {},
   "outputs": [
    {
     "data": {
      "image/png": "[encoded data removed]",
      "text/plain": [
       "<Figure size 432x288 with 1 Axes>"
      ]
     },
     "metadata": {
      "needs_background": "light"
     },
     "output_type": "display_data"
    }
   ],
   "source": [
    "#Plotting\n",
    "plt.plot(rooms_groupby.index, rooms_groupby.values)\n",
    "plt.xlabel('Bedrooms')\n",
    "plt.ylabel('Average Vacancy Days')\n",
    "plt.title('Average Vacancy Days by Bedrooms')\n",
    "plt.show()"
   ]
  }
 ],
 "metadata": {
  "kernelspec": {
   "display_name": "Python 3.7.13 ('PythonData')",
   "language": "python",
   "name": "python3"
  },
  "language_info": {
   "codemirror_mode": {
    "name": "ipython",
    "version": 3
   },
   "file_extension": ".py",
   "mimetype": "text/x-python",
   "name": "python",
   "nbconvert_exporter": "python",
   "pygments_lexer": "ipython3",
   "version": "3.7.13"
  },
  "orig_nbformat": 4,
  "vscode": {
   "interpreter": {
    "hash": "9da66beca27f19bdf81de16e0121a30aa04d4edd5eb88e9a5610932102b72b6f"
   }
  }
 },
 "nbformat": 4,
 "nbformat_minor": 2
}
