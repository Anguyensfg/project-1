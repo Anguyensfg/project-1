{
 "cells": [
  {
   "cell_type": "code",
   "execution_count": 22,
   "metadata": {},
   "outputs": [],
   "source": [
    "# Dependencies\n",
    "%matplotlib inline\n",
    "import numpy as np\n",
    "import pandas as pd\n",
    "import matplotlib.pyplot as plt\n",
    "from scipy import stats\n",
    "import scipy.stats as st\n",
    "from scipy.stats import linregress\n",
    "from pandas.core.reshape.pivot import pivot\n"
   ]
  },
  {
   "cell_type": "code",
   "execution_count": 23,
   "metadata": {},
   "outputs": [],
   "source": [
    "# Read CSV\n",
    "df1 = pd.read_csv(\"raw_data/2017-18-vacancy.csv\")\n",
    "df2 = pd.read_csv(\"raw_data/2018-19-vacancy.csv\")\n",
    "df3 = pd.read_csv(\"raw_data/2019-20-vacancy.csv\")\n",
    "df4 = pd.read_csv(\"raw_data/2020-21-vacancy.csv\")"
   ]
  },
  {
   "cell_type": "code",
   "execution_count": 24,
   "metadata": {},
   "outputs": [
    {
     "data": {
      "text/plain": [
       "Index(['Postcode', 'Bedrooms', 'RentalUnitDesc', 'VUDate', 'VTDate', 'TENDate',\n",
       "       'RUUseType', 'HousingServiceCentre', 'VUDays', 'VTDays', 'TotalVAC',\n",
       "       'LGA', 'StateElectorate'],\n",
       "      dtype='object')"
      ]
     },
     "execution_count": 24,
     "metadata": {},
     "output_type": "execute_result"
    }
   ],
   "source": [
    "df1.columns"
   ]
  },
  {
   "cell_type": "code",
   "execution_count": 25,
   "metadata": {},
   "outputs": [
    {
     "data": {
      "text/plain": [
       "Index(['Postcode', 'Bedrooms', 'RentalUnitDesc', 'VUDate', 'VTDate', 'TENDate',\n",
       "       'RUUseType', 'HousingServiceCentre', 'VUDays', 'VTDays', 'TotalVAC',\n",
       "       'LGA', 'StateElectorate'],\n",
       "      dtype='object')"
      ]
     },
     "execution_count": 25,
     "metadata": {},
     "output_type": "execute_result"
    }
   ],
   "source": [
    "df2.columns"
   ]
  },
  {
   "cell_type": "code",
   "execution_count": 29,
   "metadata": {},
   "outputs": [
    {
     "data": {
      "text/plain": [
       "Index(['Postcode', 'Bedrooms', 'RentalUnitDesc', 'VUDate', 'VTDate', 'TENDate',\n",
       "       'RUUseType', 'HousingServiceCentre', 'VUDays', 'VTDays', 'TotalVAC',\n",
       "       'LGA', 'StateElectorate'],\n",
       "      dtype='object')"
      ]
     },
     "execution_count": 29,
     "metadata": {},
     "output_type": "execute_result"
    }
   ],
   "source": [
    "#Fixing column names and reordering as needed\n",
    "df3 = df3.rename(columns= {'PropertyType':'RentalUnitDesc', 'TotalVacDays':'TotalVac', 'LocalGovtAuthority':'LGA'})\n",
    "neworder = ['Postcode', 'Bedrooms', 'RentalUnitDesc', 'VUDate', 'VTDate', 'TENDate',\n",
    "       'RUUseType', 'HousingServiceCentre', 'VUDays', 'VTDays', 'TotalVAC',\n",
    "       'LGA', 'StateElectorate']\n",
    "df3=df3.reindex(columns=neworder)\n",
    "df3.columns"
   ]
  },
  {
   "cell_type": "code",
   "execution_count": 31,
   "metadata": {},
   "outputs": [
    {
     "data": {
      "text/plain": [
       "Index(['Postcode', 'Bedrooms', 'RentalUnitDesc', 'VUDate', 'VTDate', 'TENDate',\n",
       "       'RUUseType', 'HousingServiceCentre', 'VUDays', 'VTDays', 'TotalVAC',\n",
       "       'LGA', 'StateElectorate'],\n",
       "      dtype='object')"
      ]
     },
     "execution_count": 31,
     "metadata": {},
     "output_type": "execute_result"
    }
   ],
   "source": [
    "#Fixing column names and reordering as needed\n",
    "df4 = df4.rename(columns= {'PropertyType':'RentalUnitDesc', 'LocalGovtAuthority':'LGA'})\n",
    "df4=df4.reindex(columns=neworder)\n",
    "df4.columns"
   ]
  },
  {
   "cell_type": "code",
   "execution_count": 32,
   "metadata": {},
   "outputs": [
    {
     "data": {
      "text/html": [
       "<div>\n",
       "<style scoped>\n",
       "    .dataframe tbody tr th:only-of-type {\n",
       "        vertical-align: middle;\n",
       "    }\n",
       "\n",
       "    .dataframe tbody tr th {\n",
       "        vertical-align: top;\n",
       "    }\n",
       "\n",
       "    .dataframe thead th {\n",
       "        text-align: right;\n",
       "    }\n",
       "</style>\n",
       "<table border=\"1\" class=\"dataframe\">\n",
       "  <thead>\n",
       "    <tr style=\"text-align: right;\">\n",
       "      <th></th>\n",
       "      <th>Postcode</th>\n",
       "      <th>Bedrooms</th>\n",
       "      <th>RentalUnitDesc</th>\n",
       "      <th>VUDate</th>\n",
       "      <th>VTDate</th>\n",
       "      <th>TENDate</th>\n",
       "      <th>RUUseType</th>\n",
       "      <th>HousingServiceCentre</th>\n",
       "      <th>VUDays</th>\n",
       "      <th>VTDays</th>\n",
       "      <th>TotalVAC</th>\n",
       "      <th>LGA</th>\n",
       "      <th>StateElectorate</th>\n",
       "    </tr>\n",
       "  </thead>\n",
       "  <tbody>\n",
       "    <tr>\n",
       "      <th>6262</th>\n",
       "      <td>4101</td>\n",
       "      <td>1</td>\n",
       "      <td>Apartment</td>\n",
       "      <td>1/08/2020</td>\n",
       "      <td>1/09/2020</td>\n",
       "      <td>1/09/2020</td>\n",
       "      <td>Community Housing</td>\n",
       "      <td>FORTITUDE VALLEY</td>\n",
       "      <td>23</td>\n",
       "      <td>0</td>\n",
       "      <td>23</td>\n",
       "      <td>Brisbane</td>\n",
       "      <td>South Brisbane</td>\n",
       "    </tr>\n",
       "    <tr>\n",
       "      <th>6263</th>\n",
       "      <td>4034</td>\n",
       "      <td>3</td>\n",
       "      <td>Apartment</td>\n",
       "      <td>1/05/2021</td>\n",
       "      <td>1/06/2021</td>\n",
       "      <td>1/06/2021</td>\n",
       "      <td>Community Housing</td>\n",
       "      <td>CHERMSIDE</td>\n",
       "      <td>28</td>\n",
       "      <td>0</td>\n",
       "      <td>28</td>\n",
       "      <td>Brisbane</td>\n",
       "      <td>Nudgee</td>\n",
       "    </tr>\n",
       "    <tr>\n",
       "      <th>6264</th>\n",
       "      <td>4101</td>\n",
       "      <td>1</td>\n",
       "      <td>Apartment</td>\n",
       "      <td>1/07/2020</td>\n",
       "      <td>1/08/2020</td>\n",
       "      <td>1/08/2020</td>\n",
       "      <td>Community Housing</td>\n",
       "      <td>FORTITUDE VALLEY</td>\n",
       "      <td>33</td>\n",
       "      <td>0</td>\n",
       "      <td>33</td>\n",
       "      <td>Brisbane</td>\n",
       "      <td>South Brisbane</td>\n",
       "    </tr>\n",
       "    <tr>\n",
       "      <th>6265</th>\n",
       "      <td>4020</td>\n",
       "      <td>1</td>\n",
       "      <td>Apartment</td>\n",
       "      <td>1/12/2020</td>\n",
       "      <td>1/01/2021</td>\n",
       "      <td>1/02/2021</td>\n",
       "      <td>Community Housing</td>\n",
       "      <td>MORETON BAY</td>\n",
       "      <td>35</td>\n",
       "      <td>18</td>\n",
       "      <td>53</td>\n",
       "      <td>Moreton Bay</td>\n",
       "      <td>Redcliffe</td>\n",
       "    </tr>\n",
       "    <tr>\n",
       "      <th>6266</th>\n",
       "      <td>4020</td>\n",
       "      <td>1</td>\n",
       "      <td>Apartment</td>\n",
       "      <td>1/03/2021</td>\n",
       "      <td>1/04/2021</td>\n",
       "      <td>1/04/2021</td>\n",
       "      <td>Community Housing</td>\n",
       "      <td>MORETON BAY</td>\n",
       "      <td>46</td>\n",
       "      <td>0</td>\n",
       "      <td>46</td>\n",
       "      <td>Moreton Bay</td>\n",
       "      <td>Redcliffe</td>\n",
       "    </tr>\n",
       "  </tbody>\n",
       "</table>\n",
       "</div>"
      ],
      "text/plain": [
       "      Postcode  Bedrooms RentalUnitDesc     VUDate     VTDate    TENDate  \\\n",
       "6262      4101         1      Apartment  1/08/2020  1/09/2020  1/09/2020   \n",
       "6263      4034         3      Apartment  1/05/2021  1/06/2021  1/06/2021   \n",
       "6264      4101         1      Apartment  1/07/2020  1/08/2020  1/08/2020   \n",
       "6265      4020         1      Apartment  1/12/2020  1/01/2021  1/02/2021   \n",
       "6266      4020         1      Apartment  1/03/2021  1/04/2021  1/04/2021   \n",
       "\n",
       "              RUUseType HousingServiceCentre  VUDays  VTDays  TotalVAC  \\\n",
       "6262  Community Housing    FORTITUDE VALLEY       23       0        23   \n",
       "6263  Community Housing           CHERMSIDE       28       0        28   \n",
       "6264  Community Housing    FORTITUDE VALLEY       33       0        33   \n",
       "6265  Community Housing         MORETON BAY       35      18        53   \n",
       "6266  Community Housing         MORETON BAY       46       0        46   \n",
       "\n",
       "              LGA StateElectorate  \n",
       "6262     Brisbane  South Brisbane  \n",
       "6263     Brisbane          Nudgee  \n",
       "6264     Brisbane  South Brisbane  \n",
       "6265  Moreton Bay       Redcliffe  \n",
       "6266  Moreton Bay       Redcliffe  "
      ]
     },
     "execution_count": 32,
     "metadata": {},
     "output_type": "execute_result"
    }
   ],
   "source": [
    "df4.tail()"
   ]
  },
  {
   "cell_type": "code",
   "execution_count": 33,
   "metadata": {},
   "outputs": [
    {
     "data": {
      "text/plain": [
       "(28103, 13)"
      ]
     },
     "execution_count": 33,
     "metadata": {},
     "output_type": "execute_result"
    }
   ],
   "source": [
    "#Concatenating all dataframes\n",
    "df = pd.concat([df1, df2, df3, df4])\n",
    "#Dropping nan values\n",
    "df = df.dropna(subset=['TotalVAC'],inplace = False)\n",
    "#Dropping rows with 0 days vacant\n",
    "df = df[df.TotalVAC != 0]\n",
    "df.shape"
   ]
  },
  {
   "cell_type": "code",
   "execution_count": 34,
   "metadata": {},
   "outputs": [
    {
     "name": "stdout",
     "output_type": "stream",
     "text": [
      "28103\n",
      "28103\n"
     ]
    }
   ],
   "source": [
    "#Create two new columns for year and month\n",
    "Years = []\n",
    "Months = []\n",
    "#Convert date string to year and month\n",
    "date_splited = []\n",
    "dates = pd.Series(df['TENDate'])\n",
    "for date in dates:\n",
    "    if '/' in date:\n",
    "        date_splited = date.split('/')\n",
    "        Years.append(date_splited[2].strip())\n",
    "        Months.append(f'{date_splited[2]}-{date_splited[1]}')\n",
    "    elif '-' in date:\n",
    "        date_splited = date.split('-')\n",
    "        Years.append(f'20{date_splited[1].strip()}')\n",
    "        Months.append(date_splited[0].strip())\n",
    "    else:\n",
    "        Years.append(date)\n",
    "\n",
    "print(len(dates))\n",
    "print(len(Years))\n",
    "df['Year'] = Years\n",
    "df['Month'] = Months"
   ]
  },
  {
   "cell_type": "code",
   "execution_count": 35,
   "metadata": {},
   "outputs": [
    {
     "data": {
      "text/plain": [
       "array(['DETACHED HOUSE', 'APARTMENT', 'SENIOR UNIT', 'DUPLEX',\n",
       "       'ATTACHED HOUSING', 'CLUSTER HOUSING', 'DUAL OCCUPANCY',\n",
       "       'Townhouse', 'Detached House', 'Apartment', 'Cluster House',\n",
       "       'Duplex', 'Room', 'Dual Occupancy'], dtype=object)"
      ]
     },
     "execution_count": 35,
     "metadata": {},
     "output_type": "execute_result"
    }
   ],
   "source": [
    "#Check rental unit description's case\n",
    "df['RentalUnitDesc'].unique()"
   ]
  },
  {
   "cell_type": "code",
   "execution_count": 36,
   "metadata": {},
   "outputs": [
    {
     "data": {
      "text/plain": [
       "array(['Detached House', 'Senior Unit', 'Attached Housing', 'Apartment',\n",
       "       'Cluster Housing', 'Duplex', 'Dual Occupancy', 'Townhouse'],\n",
       "      dtype=object)"
      ]
     },
     "execution_count": 36,
     "metadata": {},
     "output_type": "execute_result"
    }
   ],
   "source": [
    "#Realign the case type of RentalUnitDesc\n",
    "#Convert Upper case to title case\n",
    "for index, row in df.iterrows():\n",
    "    rentalunit = row['RentalUnitDesc']\n",
    "    #print(rentalunit)\n",
    "    if rentalunit.isupper():\n",
    "        df.loc[index, 'RentalUnitDesc'] = rentalunit.title()\n",
    "\n",
    "df['RentalUnitDesc'].unique()\n",
    "    "
   ]
  },
  {
   "cell_type": "code",
   "execution_count": 37,
   "metadata": {},
   "outputs": [
    {
     "data": {
      "text/html": [
       "<div>\n",
       "<style scoped>\n",
       "    .dataframe tbody tr th:only-of-type {\n",
       "        vertical-align: middle;\n",
       "    }\n",
       "\n",
       "    .dataframe tbody tr th {\n",
       "        vertical-align: top;\n",
       "    }\n",
       "\n",
       "    .dataframe thead th {\n",
       "        text-align: right;\n",
       "    }\n",
       "</style>\n",
       "<table border=\"1\" class=\"dataframe\">\n",
       "  <thead>\n",
       "    <tr style=\"text-align: right;\">\n",
       "      <th></th>\n",
       "      <th>Postcode</th>\n",
       "      <th>Bedrooms</th>\n",
       "      <th>RentalUnitDesc</th>\n",
       "      <th>VUDate</th>\n",
       "      <th>VTDate</th>\n",
       "      <th>TENDate</th>\n",
       "      <th>RUUseType</th>\n",
       "      <th>HousingServiceCentre</th>\n",
       "      <th>VUDays</th>\n",
       "      <th>VTDays</th>\n",
       "      <th>TotalVAC</th>\n",
       "      <th>LGA</th>\n",
       "      <th>StateElectorate</th>\n",
       "      <th>Year</th>\n",
       "      <th>Month</th>\n",
       "    </tr>\n",
       "  </thead>\n",
       "  <tbody>\n",
       "    <tr>\n",
       "      <th>0</th>\n",
       "      <td>4032</td>\n",
       "      <td>3</td>\n",
       "      <td>Detached House</td>\n",
       "      <td>9/10/2017</td>\n",
       "      <td>2/11/2017</td>\n",
       "      <td>3/11/2017</td>\n",
       "      <td>Public Housing</td>\n",
       "      <td>105</td>\n",
       "      <td>24</td>\n",
       "      <td>1</td>\n",
       "      <td>25</td>\n",
       "      <td>BRISBANE</td>\n",
       "      <td>STAFFORD</td>\n",
       "      <td>2017</td>\n",
       "      <td>2017-11</td>\n",
       "    </tr>\n",
       "    <tr>\n",
       "      <th>1</th>\n",
       "      <td>4108</td>\n",
       "      <td>2</td>\n",
       "      <td>Detached House</td>\n",
       "      <td>3/04/2018</td>\n",
       "      <td>18/04/2018</td>\n",
       "      <td>2/05/2018</td>\n",
       "      <td>Public Housing</td>\n",
       "      <td>107</td>\n",
       "      <td>15</td>\n",
       "      <td>14</td>\n",
       "      <td>29</td>\n",
       "      <td>BRISBANE</td>\n",
       "      <td>TOOHEY</td>\n",
       "      <td>2018</td>\n",
       "      <td>2018-05</td>\n",
       "    </tr>\n",
       "    <tr>\n",
       "      <th>2</th>\n",
       "      <td>4108</td>\n",
       "      <td>2</td>\n",
       "      <td>Detached House</td>\n",
       "      <td>1/08/2017</td>\n",
       "      <td>11/08/2017</td>\n",
       "      <td>21/08/2017</td>\n",
       "      <td>Public Housing</td>\n",
       "      <td>107</td>\n",
       "      <td>10</td>\n",
       "      <td>10</td>\n",
       "      <td>20</td>\n",
       "      <td>BRISBANE</td>\n",
       "      <td>TOOHEY</td>\n",
       "      <td>2017</td>\n",
       "      <td>2017-08</td>\n",
       "    </tr>\n",
       "    <tr>\n",
       "      <th>3</th>\n",
       "      <td>4108</td>\n",
       "      <td>2</td>\n",
       "      <td>Detached House</td>\n",
       "      <td>1/03/2018</td>\n",
       "      <td>23/03/2018</td>\n",
       "      <td>28/03/2018</td>\n",
       "      <td>Public Housing</td>\n",
       "      <td>107</td>\n",
       "      <td>22</td>\n",
       "      <td>5</td>\n",
       "      <td>27</td>\n",
       "      <td>BRISBANE</td>\n",
       "      <td>TOOHEY</td>\n",
       "      <td>2018</td>\n",
       "      <td>2018-03</td>\n",
       "    </tr>\n",
       "    <tr>\n",
       "      <th>4</th>\n",
       "      <td>4108</td>\n",
       "      <td>2</td>\n",
       "      <td>Detached House</td>\n",
       "      <td>15/11/2017</td>\n",
       "      <td>1/12/2017</td>\n",
       "      <td>2/01/2018</td>\n",
       "      <td>Public Housing</td>\n",
       "      <td>107</td>\n",
       "      <td>16</td>\n",
       "      <td>32</td>\n",
       "      <td>48</td>\n",
       "      <td>BRISBANE</td>\n",
       "      <td>TOOHEY</td>\n",
       "      <td>2018</td>\n",
       "      <td>2018-01</td>\n",
       "    </tr>\n",
       "  </tbody>\n",
       "</table>\n",
       "</div>"
      ],
      "text/plain": [
       "   Postcode  Bedrooms  RentalUnitDesc      VUDate      VTDate     TENDate  \\\n",
       "0      4032         3  Detached House   9/10/2017   2/11/2017   3/11/2017   \n",
       "1      4108         2  Detached House   3/04/2018  18/04/2018   2/05/2018   \n",
       "2      4108         2  Detached House   1/08/2017  11/08/2017  21/08/2017   \n",
       "3      4108         2  Detached House   1/03/2018  23/03/2018  28/03/2018   \n",
       "4      4108         2  Detached House  15/11/2017   1/12/2017   2/01/2018   \n",
       "\n",
       "        RUUseType HousingServiceCentre  VUDays  VTDays  TotalVAC       LGA  \\\n",
       "0  Public Housing                  105      24       1        25  BRISBANE   \n",
       "1  Public Housing                  107      15      14        29  BRISBANE   \n",
       "2  Public Housing                  107      10      10        20  BRISBANE   \n",
       "3  Public Housing                  107      22       5        27  BRISBANE   \n",
       "4  Public Housing                  107      16      32        48  BRISBANE   \n",
       "\n",
       "  StateElectorate  Year    Month  \n",
       "0        STAFFORD  2017  2017-11  \n",
       "1          TOOHEY  2018  2018-05  \n",
       "2          TOOHEY  2017  2017-08  \n",
       "3          TOOHEY  2018  2018-03  \n",
       "4          TOOHEY  2018  2018-01  "
      ]
     },
     "execution_count": 37,
     "metadata": {},
     "output_type": "execute_result"
    }
   ],
   "source": [
    "#Write to CSV\n",
    "df.to_csv(\"all_vacancy_data.csv\")\n",
    "df.head()"
   ]
  }
 ],
 "metadata": {
  "kernelspec": {
   "display_name": "Python 3.7.13 ('PythonData')",
   "language": "python",
   "name": "python3"
  },
  "language_info": {
   "codemirror_mode": {
    "name": "ipython",
    "version": 3
   },
   "file_extension": ".py",
   "mimetype": "text/x-python",
   "name": "python",
   "nbconvert_exporter": "python",
   "pygments_lexer": "ipython3",
   "version": "3.7.13"
  },
  "orig_nbformat": 4,
  "vscode": {
   "interpreter": {
    "hash": "9da66beca27f19bdf81de16e0121a30aa04d4edd5eb88e9a5610932102b72b6f"
   }
  }
 },
 "nbformat": 4,
 "nbformat_minor": 2
}
